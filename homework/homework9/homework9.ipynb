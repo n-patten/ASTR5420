{
 "cells": [
  {
   "cell_type": "code",
   "execution_count": 2,
   "id": "caf79a45",
   "metadata": {},
   "outputs": [],
   "source": [
    "import numpy as np\n",
    "import matplotlib.pyplot as plt\n",
    "# NP Necessary imports"
   ]
  },
  {
   "cell_type": "code",
   "execution_count": 79,
   "id": "65cdbbae",
   "metadata": {},
   "outputs": [],
   "source": [
    "M_o = 2e30\n",
    "# NP Mass of Sun in kg\n",
    "L_o = 3.828e26\n",
    "# NP Solar luminosity in W\n",
    "R_o = 6.957e8\n",
    "# NP Solar radius in m\n",
    "o = 5.67e-8\n",
    "# NP Stefan-Boltzmann constant in mks units\n",
    "G = 6.67e-11\n",
    "# NP Gravitational constant in mks units\n",
    "h = 6.63e-34\n",
    "# NP Planck constant in Js\n",
    "c = 3e8\n",
    "# NP Speed of light in m s^-1\n",
    "m_H = 1.67e-27\n",
    "# NP Mass of hydrogen in kg"
   ]
  },
  {
   "cell_type": "markdown",
   "id": "b3bfa4e9",
   "metadata": {},
   "source": [
    "<h1>Problem 1</h1>"
   ]
  },
  {
   "cell_type": "markdown",
   "id": "ddff37ef",
   "metadata": {},
   "source": [
    "<h2>(a)</h2>"
   ]
  },
  {
   "cell_type": "code",
   "execution_count": 14,
   "id": "671c9a67",
   "metadata": {},
   "outputs": [
    {
     "name": "stdout",
     "output_type": "stream",
     "text": [
      "M > 4.34E+01 M_o\n"
     ]
    }
   ],
   "source": [
    "M_wr = (1.2 *(3.2e-3) **2.2 *30 **1.57 *(5770 /40000) **0.9 *10 **-0.45\\\n",
    "    *(3.2e2) **0.225) **(-1 /2.28)\n",
    "# NP Calculating lower limit when WR stars loses half of its mass during MS\n",
    "print('M > ' +format(M_wr, '.2E') +' M_o')\n",
    "# NP Printing result"
   ]
  },
  {
   "cell_type": "markdown",
   "id": "9d9ee3df",
   "metadata": {},
   "source": [
    "<h2>(b)</h2>"
   ]
  },
  {
   "cell_type": "code",
   "execution_count": 15,
   "id": "e22ce252",
   "metadata": {},
   "outputs": [
    {
     "name": "stdout",
     "output_type": "stream",
     "text": [
      "N(SNcc) = 3.89E-04 K\n",
      "N(SNIb/c) = 4.45E-05 K\n",
      "N(SNIb/c) /(N(SNcc)) = 1.14E+01 %\n"
     ]
    }
   ],
   "source": [
    "N_M1 = (8 **-1.35 -120 **-1.35) /(1.35 *(120 -8))\n",
    "# NP Using IMF to calculate stars with M > 8M_o\n",
    "N_M2 = (M_wr **-1.35 -120 **-1.35) /(1.35 *(120 -M_wr))\n",
    "# NP Using IMF to calculate stars with M > 43.4M_o\n",
    "print('N(SNcc) = ' +format(N_M1, '.2E') +' K')\n",
    "print('N(SNIb/c) = ' +format(N_M2, '.2E') +' K')\n",
    "# NP Printing results\n",
    "f = N_M2 /N_M1 *100\n",
    "# NP Calculating fraction of SNIb/c to all cc SN\n",
    "print('N(SNIb/c) /(N(SNcc)) = ' +format(f, '.2E') +' %')\n",
    "# NP Printing percentage"
   ]
  },
  {
   "cell_type": "markdown",
   "id": "2024160b",
   "metadata": {},
   "source": [
    "<h1>Problem 2</h1>"
   ]
  },
  {
   "cell_type": "code",
   "execution_count": 16,
   "id": "83da2f8b",
   "metadata": {},
   "outputs": [],
   "source": [
    "def L(M_dot, M, R):\n",
    "    '''Function to calculate L in L_o of an accreting object\n",
    "    ~~~~~~~~~~~~~~~~~~~~~~~~~~~~~~~~~~~~~~~~~~~~~~~~~~~~~~~~\n",
    "    Inputs:\n",
    "    M_dot: float. Accretion rate, M_o yr^-1\n",
    "    M: float. Mass of accreting object, M_o\n",
    "    R: float. Radius of accreting object, R_o\n",
    "    ~~~~~~~~~~~~~~~~~~~~~~~~~~~~~~~~~~~~~~~~~~~~~~~~~~~~~~~~\n",
    "    Outputs:\n",
    "    L: float. Accretion luminosity, L_o'''\n",
    "    L = G *M *M_o *M_dot *M_o /(np.pi *10 **7) /2 /R /R_o\n",
    "    return (L /L_o)\n",
    "\n",
    "def T(L, R):\n",
    "    '''Function to calculate T in K of an accreting object\n",
    "    ~~~~~~~~~~~~~~~~~~~~~~~~~~~~~~~~~~~~~~~~~~~~~~~~~~~~~~~~\n",
    "    Inputs:\n",
    "    L: float. Accretion luminosity, L_o\n",
    "    R: float. Radius of accreting object, R_o\n",
    "    ~~~~~~~~~~~~~~~~~~~~~~~~~~~~~~~~~~~~~~~~~~~~~~~~~~~~~~~~\n",
    "    Outputs:\n",
    "    T: float. Effective temperature, K'''\n",
    "    T = ((L * L_o) /(4 *np.pi *o *(R *R_o) **2)) **0.25\n",
    "    return T\n",
    "\n",
    "def peak_l(T):\n",
    "    '''Function to calculate peak wavelength of a black body\n",
    "    ~~~~~~~~~~~~~~~~~~~~~~~~~~~~~~~~~~~~~~~~~~~~~~~~~~~~~~~~\n",
    "    Inputs:\n",
    "    T: float. Effective temperature, K\n",
    "    ~~~~~~~~~~~~~~~~~~~~~~~~~~~~~~~~~~~~~~~~~~~~~~~~~~~~~~~~\n",
    "    Outputs:\n",
    "    l: float. Peak wavelength of black body emission, nm'''\n",
    "    l = 2.898e-3 /T\n",
    "    return l *1e9\n",
    "\n",
    "def energy(l):\n",
    "    '''Function to calculate energy of photons from accretion\n",
    "        ~~~~~~~~~~~~~~~~~~~~~~~~~~~~~~~~~~~~~~~~~~~~~~~~~~~~~~~~\n",
    "        Inputs:\n",
    "        l: float. Peak wavelength of black body emission, nm\n",
    "        ~~~~~~~~~~~~~~~~~~~~~~~~~~~~~~~~~~~~~~~~~~~~~~~~~~~~~~~~\n",
    "        Outputs:\n",
    "        E: float. Energy of photon of given wavelength, kev'''\n",
    "    E = h *c / (l *1e-9) /1.6e-19 /1000\n",
    "    return E"
   ]
  },
  {
   "cell_type": "markdown",
   "id": "b67c8aee",
   "metadata": {},
   "source": [
    "<h2>(a)</h2>"
   ]
  },
  {
   "cell_type": "code",
   "execution_count": 25,
   "id": "194c617e",
   "metadata": {},
   "outputs": [
    {
     "name": "stdout",
     "output_type": "stream",
     "text": [
      "WD radius: 1.10E-02 R_o\n",
      "Accretion luminosity: 8.69E+02 L_o\n",
      "Effective temperature: 2.99E+05 K\n",
      "Peak wavelength: 9.70E+00 nm\n",
      "Photon energy: 1.28E-01 keV\n"
     ]
    }
   ],
   "source": [
    "M_wd = 0.6\n",
    "# NP Mass of white dwarf in solar masses\n",
    "R_wd = 0.01 *(M_wd /0.8) **(-1 /3)\n",
    "# NP Radius of white dwarf in solar radii\n",
    "print('WD radius: ' +format(R_wd, '.2E') +' R_o')\n",
    "L_wd = L(10 **-6, M_wd, R_wd)\n",
    "# NP Luminosity of white dwarf in solar luminosities\n",
    "print('Accretion luminosity: ' +format(L_wd, '.2E') +' L_o')\n",
    "# NP Printing result\n",
    "T_wd = T(L_wd, R_wd)\n",
    "# NP Calculating effective temperature of accretion for white dwarf\n",
    "print('Effective temperature: ' +format(T_wd, '.2E') +' K')\n",
    "# NP Printing result\n",
    "l_wd = peak_l(T_wd)\n",
    "# NP Calculating peak wavelength of emission for accreting white dwarf\n",
    "print('Peak wavelength: ' +format(l_wd, '.2E') +' nm')\n",
    "# NP Printing result\n",
    "E_wd = energy(l_wd)\n",
    "print('Photon energy: ' +format(E_wd, '.2E') +' keV')"
   ]
  },
  {
   "cell_type": "markdown",
   "id": "578b3344",
   "metadata": {},
   "source": [
    "<h2>(b)</h2>"
   ]
  },
  {
   "cell_type": "code",
   "execution_count": 26,
   "id": "af981f25",
   "metadata": {},
   "outputs": [
    {
     "name": "stdout",
     "output_type": "stream",
     "text": [
      "Accretion luminosity: 2.22E+06 L_o\n",
      "Effective temperature: 5.88E+07 K\n",
      "Peak wavelength: 4.93E-02 nm\n",
      "Photon energy: 2.52E+01 keV\n"
     ]
    }
   ],
   "source": [
    "M_ns = 2\n",
    "# NP Mass of neutron star in solar masses\n",
    "R_ns = 10000 /R_o\n",
    "# NP Radius of Netron star in solar radii\n",
    "L_ns = L(10 **-6, M_ns, R_ns)\n",
    "# NP Luminosity of neutron star in solar luminosities\n",
    "print('Accretion luminosity: ' +format(L_ns, '.2E') +' L_o')\n",
    "# NP Printing result\n",
    "T_ns = T(L_ns, R_ns)\n",
    "# NP Calculating effective temperature of accretion for neutron star\n",
    "print('Effective temperature: ' +format(T_ns, '.2E') +' K')\n",
    "# NP Printing result\n",
    "l_ns = peak_l(T_ns)\n",
    "# NP Calculating peak wavelength of emission for accreting neutron star\n",
    "print('Peak wavelength: ' +format(l_ns, '.2E') +' nm')\n",
    "# NP Printing result\n",
    "E_ns = energy(l_ns)\n",
    "print('Photon energy: ' +format(E_ns, '.2E') +' keV')\n",
    "# NP Printing result"
   ]
  },
  {
   "cell_type": "markdown",
   "id": "6b6de69a",
   "metadata": {},
   "source": [
    "<h2>(c)</h2>"
   ]
  },
  {
   "cell_type": "code",
   "execution_count": 29,
   "id": "85921cf9",
   "metadata": {},
   "outputs": [
    {
     "name": "stdout",
     "output_type": "stream",
     "text": [
      "Radius of black hole: 2.13E-05 solar radii\n",
      "Accretion luminosity: 3.74E+06 L_o\n",
      "Effective temperature: 5.50E+07 K\n",
      "Peak wavelength: 5.27E-02 nm\n",
      "Photon energy: 2.36E+01 keV\n"
     ]
    }
   ],
   "source": [
    "M_bh = 5\n",
    "# NP Mass of black hole in solar masses\n",
    "R_bh = 2 *G *M_bh *M_o /(c **2) /R_o\n",
    "# NP Schwarzschild radius of black hole in solar radii\n",
    "print('Radius of black hole: ' +format(R_bh, '.2E') +' solar radii')\n",
    "# NP Printing result\n",
    "L_bh = L(10 **-6, M_bh, R_bh)\n",
    "# NP Luminosity of black hole in solar luminosities\n",
    "print('Accretion luminosity: ' +format(L_bh, '.2E') +' L_o')\n",
    "# NP Printing result\n",
    "T_bh = T(L_bh, R_bh)\n",
    "# NP Calculating effective temperature of accretion for black hole\n",
    "print('Effective temperature: ' +format(T_bh, '.2E') +' K')\n",
    "# NP Printing result\n",
    "l_bh = peak_l(T_bh)\n",
    "# NP Calculating peak wavelength of emission for accreting black hole\n",
    "print('Peak wavelength: ' +format(l_bh, '.2E') +' nm')\n",
    "# NP Printing result\n",
    "E_bh = energy(l_bh)\n",
    "print('Photon energy: ' +format(E_bh, '.2E') +' keV')\n",
    "# NP Printing result"
   ]
  },
  {
   "cell_type": "markdown",
   "id": "8bace2b9",
   "metadata": {},
   "source": [
    "<h1>Problem 3</h1>"
   ]
  },
  {
   "cell_type": "markdown",
   "id": "f78a6d32",
   "metadata": {},
   "source": [
    "<h2>(a)</h2>"
   ]
  },
  {
   "cell_type": "code",
   "execution_count": 50,
   "id": "ce3038e0",
   "metadata": {},
   "outputs": [
    {
     "name": "stdout",
     "output_type": "stream",
     "text": [
      "Energy from Type I SN = 1.81E+51 ergs\n"
     ]
    }
   ],
   "source": [
    "m_o16 = 15.99491461956\n",
    "# NP Mass of 16O in Daltons\n",
    "m_ni56 = 55.942128\n",
    "# NP Mass of 56Ni in Daltons\n",
    "E = ((3.5 *15.99491461956) -55.942128) /(55.942128) *1.4 *M_o *c **2 *1e7\n",
    "# NP Energy produced from the conversion of 1.4 solar masses of 16O to 56Ni\n",
    "print('Energy from Type I SN = ' +format(E, '.2E') +' ergs')\n",
    "# NP Printing result in ergs"
   ]
  },
  {
   "cell_type": "markdown",
   "id": "4c4771f2",
   "metadata": {},
   "source": [
    "<h2>(b)</h2>"
   ]
  },
  {
   "cell_type": "code",
   "execution_count": 51,
   "id": "606dfeab",
   "metadata": {},
   "outputs": [
    {
     "name": "stdout",
     "output_type": "stream",
     "text": [
      "Supernova luminosity: 4.17E+09 L_o\n",
      "Energy of supernova in photons: 2.76E+49 ergs\n"
     ]
    }
   ],
   "source": [
    "M_bolsn = -19.3\n",
    "# NP Bolometric magnitude of SN\n",
    "M_bolo = 4.75\n",
    "# NP Bolometric magnitude of Sun\n",
    "L_sn = 10 **((M_bolo -M_bolsn) /2.5)\n",
    "# NP Calculating luminosity of supernova in L sun\n",
    "print('Supernova luminosity: ' +format(L_sn, '.2E') +' L_o')\n",
    "# NP Printing result\n",
    "E_sn = L_sn *20 *24 *60 *60 *L_o *1e7\n",
    "# NP Calculating energy of supernova in ergs\n",
    "print('Energy of supernova in photons: ' +format(E_sn, '.2E') +' ergs')\n",
    "# NP Printing result"
   ]
  },
  {
   "cell_type": "markdown",
   "id": "6b9eae6d",
   "metadata": {},
   "source": [
    "<h2>(c)</h2>"
   ]
  },
  {
   "cell_type": "code",
   "execution_count": 53,
   "id": "6eca4df1",
   "metadata": {},
   "outputs": [
    {
     "name": "stdout",
     "output_type": "stream",
     "text": [
      "Kinetic energy of ejecta: 1.40E+51 ergs\n"
     ]
    }
   ],
   "source": [
    "E_k = 0.5 *1.4 *M_o *(10000 *1000) **2 *1e7\n",
    "# NP Calculating kinetic energy in ejecta in ergs\n",
    "print('Kinetic energy of ejecta: ' +format(E_k, '.2E') +' ergs')\n",
    "# NP Printing result"
   ]
  },
  {
   "cell_type": "markdown",
   "id": "71bd375a",
   "metadata": {},
   "source": [
    "<h2>(d)</h2>"
   ]
  },
  {
   "cell_type": "code",
   "execution_count": 60,
   "id": "a3189969",
   "metadata": {},
   "outputs": [
    {
     "name": "stdout",
     "output_type": "stream",
     "text": [
      "Energy in neutrinos: 1.93E+50 ergs\n"
     ]
    }
   ],
   "source": [
    "N = 1.4 *M_o /(1.66053906660e-27 *m_ni56)\n",
    "# NP Number of nuclear reactions to turn 1.4 M_o of O16 to Ni56\n",
    "E_v = N * 4 *1e6 *1.6e-19 *1e7\n",
    "# NP Energy in neutrinos in ergs assuming each reaction produces 4Mev in\n",
    "# NP neutrinos\n",
    "print('Energy in neutrinos: ' +format(E_v, '.2E') +' ergs')"
   ]
  },
  {
   "cell_type": "markdown",
   "id": "897dabfb",
   "metadata": {},
   "source": [
    "<h2>(e)</h2>"
   ]
  },
  {
   "cell_type": "code",
   "execution_count": 67,
   "id": "ca6badf1",
   "metadata": {},
   "outputs": [
    {
     "name": "stdout",
     "output_type": "stream",
     "text": [
      "Energy from radiactive decays: 3.24E+50 ergs\n"
     ]
    }
   ],
   "source": [
    "m_co56 = 55.939838\n",
    "# NP Mass of Co56 in Daltons\n",
    "m_fe56 = 55.934936\n",
    "# NP Mass of Fe56 in Daltons\n",
    "E_rad = (((m_ni56-m_co56) /(m_co56)) +((m_co56-m_fe56) /(m_fe56))) *1.4\\\n",
    "    *M_o *c **2 *1e7\n",
    "# NP Calculating energy in radiactive decays in ergs\n",
    "print('Energy from radiactive decays: ' +format(E_rad, '.2E') +' ergs')\n",
    "# NP Printing result"
   ]
  },
  {
   "cell_type": "markdown",
   "id": "e959ef49",
   "metadata": {},
   "source": [
    "<h2>(f)</h2>"
   ]
  },
  {
   "cell_type": "code",
   "execution_count": 74,
   "id": "6fd4e65a",
   "metadata": {},
   "outputs": [
    {
     "name": "stdout",
     "output_type": "stream",
     "text": [
      "Delta E: 1.08E+00\n"
     ]
    }
   ],
   "source": [
    "DE = (E_sn +E_k +E_v +E_rad) /(E)\n",
    "# NP Ratio of sum of energies and total predicted Type Ia SN energy\n",
    "print('Delta E: ' +format(DE, '.2E'))\n",
    "# NP Printing result"
   ]
  },
  {
   "cell_type": "markdown",
   "id": "97effddd",
   "metadata": {},
   "source": [
    "<h1>Problem 4</h1>"
   ]
  },
  {
   "cell_type": "markdown",
   "id": "d7c67f61",
   "metadata": {},
   "source": [
    "<h2>(a)</h2>"
   ]
  },
  {
   "cell_type": "code",
   "execution_count": 140,
   "id": "66f994bf",
   "metadata": {},
   "outputs": [
    {
     "name": "stdout",
     "output_type": "stream",
     "text": [
      "ISM density: 2.34E-24 g cm^-3\n",
      "Shock speed: 4.47E+03 km/s\n",
      "Shock radius: 3.26E+00 pc\n",
      "Shock age: 7.17E+02years\n"
     ]
    }
   ],
   "source": [
    "rho_ISM = 1.4 *m_H *1000\n",
    "# NP Calculating ISM density assuming mu = 1.4 in gcm^-3\n",
    "print('ISM density: ' +format(rho_ISM, '.2E') +' g cm^-3')\n",
    "# NP Printing result\n",
    "E_k = 1e51 *1e-7\n",
    "# Kinetic energy in ergs\n",
    "M_ej = 5 *M_o\n",
    "# NP Mass of SN ejecta\n",
    "v = np.sqrt((E_k *2) /(M_ej)) /1000\n",
    "# NP Speed of shock in km/s\n",
    "print('Shock speed: ' +format(v, '.2E') +' km/s')\n",
    "# NP Printing result\n",
    "r_sh = ((3 *M_ej) /(4 *np.pi *rho_ISM *1000)) **(1/3) /(3.09e16)\n",
    "# NP Calculating shock radius in pc\n",
    "print('Shock radius: ' +format(r_sh, '.2E') +' pc')\n",
    "# NP Printing result\n",
    "t_sh = (r_sh) /(v) /(np.pi *1e7) *3.09e13\n",
    "# NP Calculating shock age in years\n",
    "print('Shock age: ' +format(t_sh, '.2E') +'years')\n",
    "# NP Printing result"
   ]
  },
  {
   "cell_type": "markdown",
   "id": "d65dbf1a",
   "metadata": {},
   "source": [
    "<h2>(b)</h2>"
   ]
  },
  {
   "cell_type": "code",
   "execution_count": 151,
   "id": "d280b2c2",
   "metadata": {},
   "outputs": [
    {
     "name": "stdout",
     "output_type": "stream",
     "text": [
      "Momentum conserving phase occurs at age: 3.32E+04 years\n",
      "Shock radius at momentum phase: 1.98E+01 pc\n",
      "SNR Mass : 1.84E+03 M_o\n"
     ]
    }
   ],
   "source": [
    "t_sh2 = (100 *np.pi *1e7) **(6/11) *((3 *E_k *1e7) /(1e-21 *4 *np.pi\\\n",
    "    *(2.3 *3.09e18) **3 *(rho_ISM *1e24) **(-3/5))) **(5/11)\\\n",
    "    /(np.pi *1e7)\n",
    "# NP Calculating when momentum conserving phase occurs in years\n",
    "print('Momentum conserving phase occurs at age: ' +format(t_sh2, '.2E')\\\n",
    "    +' years')\n",
    "# NP Printing result\n",
    "r_sh2 = 2.3 *((rho_ISM) /(1e-24)) **(-1/5) *((t_sh2) /(100)) **(2/5)\n",
    "print('Shock radius at momentum phase: ' +format(r_sh2, '.2E')\\\n",
    "    +' pc')\n",
    "# NP Printing result\n",
    "M_SNR = (2 *E_k) /((9000 *1000) **2 *(rho_ISM *1e24) **(-2/5)\\\n",
    "    *(t_sh2/100) **(-6/5)) /M_o\n",
    "# NP Calculating mass of SNR in Solar masses\n",
    "print('SNR Mass : ' +format(M_SNR, '.2E') +' M_o')\n",
    "# NP Printing result"
   ]
  },
  {
   "cell_type": "markdown",
   "id": "d42ace4d",
   "metadata": {},
   "source": [
    "<h1>Problem 5</h1>"
   ]
  },
  {
   "cell_type": "markdown",
   "id": "8aa5ba06",
   "metadata": {},
   "source": [
    "<h2>(a)</h2>"
   ]
  },
  {
   "cell_type": "code",
   "execution_count": 158,
   "id": "32916ce5",
   "metadata": {},
   "outputs": [],
   "source": [
    "L1, T1, R1, ages1 = np.loadtxt('/d/users/nikhil/Downloads/MESA_60p0'\n",
    "    'Msun_FeHm2p0.txt', usecols = (6, 11, 13, 0), unpack = True)\n",
    "L2, T2, R2, ages2 = np.loadtxt('/d/users/nikhil/Downloads/MESA_60p0'\n",
    "    'Msun_FeH0p0.txt', usecols = (6, 11, 13, 0), unpack = True)\n",
    "L3, T3, R3, ages3 = np.loadtxt('/d/users/nikhil/Downloads/MESA_15p0'\n",
    "    'Msun_FeHm2p0.txt', usecols = (6, 11, 13, 0), unpack = True)\n",
    "L4, T4, R4, ages4 = np.loadtxt('/d/users/nikhil/Downloads/MESA_15p0'\n",
    "    'Msun_FeH0p0.txt', usecols = (6, 11, 13, 0), unpack = True)\n",
    "# NP Reading in data for different mass stars with different\n",
    "# NP metallicities"
   ]
  },
  {
   "cell_type": "code",
   "execution_count": 169,
   "id": "3663edf2",
   "metadata": {},
   "outputs": [
    {
     "data": {
      "image/png": "[encoded data removed]",
      "text/plain": [
       "<Figure size 576x432 with 1 Axes>"
      ]
     },
     "metadata": {
      "needs_background": "light"
     },
     "output_type": "display_data"
    }
   ],
   "source": [
    "plt.figure(figsize = [8, 6])\n",
    "# NP Making figure larger\n",
    "plt.plot(T1, L1, 'b', label = r'$60M_\\odot$, [Fe/H]$=-2$')\n",
    "plt.plot(T2, L2, 'c', label = r'$60M_\\odot$, [Fe/H]$=0$')\n",
    "plt.plot(T3, L3, color = 'orange', label = r'$15M_\\odot$,'\n",
    "    ' [Fe/H]$=-2$')\n",
    "plt.plot(T4, L4, 'r', label = r'$15M_\\odot$, [Fe/H]$=0$')\n",
    "# NP Plotting temperaures and luminosities\n",
    "plt.text(4.65, 4.2, 'MS')\n",
    "plt.text(4.25, 5.0, 'YSG')\n",
    "plt.text(3.75, 5.1, 'RSG')\n",
    "plt.text(5.25, 5.7, 'WR')\n",
    "# NP Labeling different phases in stellar evolution\n",
    "plt.gca().invert_xaxis()\n",
    "# NP Flipping x-axis\n",
    "plt.legend()\n",
    "# NP Making legend\n",
    "plt.xlabel(r'$\\log T(K)$')\n",
    "plt.ylabel(r'$\\log L(L_\\odot)$')\n",
    "# NP Labeling axes\n",
    "plt.title('HR tracks for 4 different metalicity and mass stars')\n",
    "# NP Labeling plot\n",
    "plt.savefig('/d/www/nikhil/public_html/ASTR5420/images/HRtracksM.png')\n",
    "# NP Saving figure"
   ]
  },
  {
   "cell_type": "markdown",
   "id": "38e32070",
   "metadata": {},
   "source": [
    "<h2>(c)</h2>"
   ]
  },
  {
   "cell_type": "code",
   "execution_count": 187,
   "id": "d239a833",
   "metadata": {},
   "outputs": [
    {
     "data": {
      "image/png": "[encoded data removed]",
      "text/plain": [
       "<Figure size 576x432 with 1 Axes>"
      ]
     },
     "metadata": {
      "needs_background": "light"
     },
     "output_type": "display_data"
    }
   ],
   "source": [
    "plt.figure(figsize = [8, 6])\n",
    "# NP Making figure larger\n",
    "plt.plot(ages1, R1, 'b', label = r'$60M_\\odot$, [Fe/H]$=-2$')\n",
    "plt.plot(ages2, R2, 'c', label = r'$60M_\\odot$, [Fe/H]$=0$')\n",
    "plt.plot(ages3, R3, color = 'orange', label\\\n",
    "    = r'$15M_\\odot$, [Fe/H]$=-2$')\n",
    "plt.plot(ages4, R4, 'r', label = r'$15M_\\odot$, [Fe/H]$=0$')\n",
    "# NP Plotting radius as a function of age for all stars\n",
    "plt.legend()\n",
    "# NP Creating legend\n",
    "plt.xlabel(r'Time(yr)')\n",
    "plt.ylabel(r'$\\log R(R_\\odot)$')\n",
    "plt.title(r'Radius as a function of age')\n",
    "# NP Labeling figure\n",
    "plt.xscale('log')\n",
    "# NP Scaling x-axis to log scale\n",
    "plt.xlim(1 *10 **3, 2*10**7)\n",
    "plt.savefig('/d/www/nikhil/public_html/ASTR5420/images/Radiustime'\n",
    "    'stars2.png')\n",
    "# NP Saving figure"
   ]
  },
  {
   "cell_type": "markdown",
   "id": "1f26a28a",
   "metadata": {},
   "source": [
    "<h2>(d)</h2>"
   ]
  },
  {
   "cell_type": "code",
   "execution_count": 188,
   "id": "9fa22e5b",
   "metadata": {},
   "outputs": [
    {
     "name": "stdout",
     "output_type": "stream",
     "text": [
      "60M_o Z= -2 log[radius]: 2.52E+00\n",
      "60M_o Z= 0 log[radius]: 2.71E+00\n",
      "15M_o Z= -2 log[radius]: 2.81E+00\n",
      "15M_o Z= 0 log[radius]: 2.99E+00\n"
     ]
    }
   ],
   "source": [
    "print('60M_o Z= -2 log[radius]: ' +format(np.max(R1),'.2E'))\n",
    "print('60M_o Z= 0 log[radius]: ' +format(np.max(R2),'.2E'))\n",
    "print('15M_o Z= -2 log[radius]: ' +format(np.max(R3),'.2E'))\n",
    "print('15M_o Z= 0 log[radius]: ' +format(np.max(R4),'.2E'))"
   ]
  },
  {
   "cell_type": "code",
   "execution_count": null,
   "id": "aef6c537",
   "metadata": {},
   "outputs": [],
   "source": []
  }
 ],
 "metadata": {
  "kernelspec": {
   "display_name": "Python 3 (ipykernel)",
   "language": "python",
   "name": "python3"
  },
  "language_info": {
   "codemirror_mode": {
    "name": "ipython",
    "version": 3
   },
   "file_extension": ".py",
   "mimetype": "text/x-python",
   "name": "python",
   "nbconvert_exporter": "python",
   "pygments_lexer": "ipython3",
   "version": "3.9.12"
  }
 },
 "nbformat": 4,
 "nbformat_minor": 5
}
