{
 "cells": [
  {
   "cell_type": "code",
   "execution_count": 1,
   "id": "23c42d1e",
   "metadata": {},
   "outputs": [],
   "source": [
    "import numpy as np\n",
    "import matplotlib.pyplot as plt\n",
    "# NP Necessary imports"
   ]
  },
  {
   "cell_type": "markdown",
   "id": "40cd2a2e",
   "metadata": {},
   "source": [
    "<h1>Problem 1</h1>"
   ]
  },
  {
   "cell_type": "markdown",
   "id": "a6a5813b",
   "metadata": {},
   "source": [
    "<h2>(a)</h2>"
   ]
  },
  {
   "cell_type": "code",
   "execution_count": 2,
   "id": "1fe51c5a",
   "metadata": {},
   "outputs": [
    {
     "name": "stdout",
     "output_type": "stream",
     "text": [
      "delta m/m: -6.58E-01 % (proton-proton chain)\n"
     ]
    }
   ],
   "source": [
    "m_p = 1.007276466621 *(1.66053906660e-27)\n",
    "# NP Mass of proton in kg\n",
    "m_he = 4.002603254 *(1.66053906660e-27)\n",
    "# NP Mass of 4He in kg\n",
    "print('delta m/m: ' +format((m_he -4 *m_p)\\\n",
    "    *100 /(4 *m_p), '.2E') +' % (proton-proton chain)')\n",
    "# NP Printing change in mass percent"
   ]
  },
  {
   "cell_type": "markdown",
   "id": "ec5b014d",
   "metadata": {},
   "source": [
    "<h2>(b)</h2>"
   ]
  },
  {
   "cell_type": "code",
   "execution_count": 3,
   "id": "1f4b0abb",
   "metadata": {},
   "outputs": [
    {
     "name": "stdout",
     "output_type": "stream",
     "text": [
      "delta m/m: -6.50E-02 % (triple alpha)\n"
     ]
    }
   ],
   "source": [
    "m_c = 12 *(1.66053906660e-27)\n",
    "# NP Mass of 12C in kg\n",
    "print('delta m/m: ' +format((m_c -3 *m_he)\\\n",
    "    *100 /(3 *m_he), '.2E') +' % (triple alpha)')\n",
    "# NP Printing change in mass percent"
   ]
  },
  {
   "cell_type": "markdown",
   "id": "1db5f5de",
   "metadata": {},
   "source": [
    "<h1>Problem 2</h1>"
   ]
  },
  {
   "cell_type": "code",
   "execution_count": 4,
   "id": "3499afe7",
   "metadata": {},
   "outputs": [],
   "source": [
    "def f_V(m, T, V):\n",
    "    '''Function to return the velocity distribution\n",
    "    at a given temperature for a particle.\n",
    "    Inputs:\n",
    "    ~~~~~~~~~~~~~~~~~~~~~~~~~~~~~~~~~~~~~~~~~~~\n",
    "    m: Mass of the particle in kg. -float.\n",
    "    T: Temperaure in Kelvin. -float\n",
    "    V: Velcoities to run distribution over. -np.array\n",
    "    Returns:\n",
    "    ~~~~~~~~~~~~~~~~~~~~~~~~~~~~~~~~~~~~~~~~~~~\n",
    "    f_V: Velocity distribution for inputted parameters\n",
    "    -np.array'''\n",
    "    k = 1.38e-23\n",
    "    # NP Boltzmann constant in kgs units\n",
    "    f_V = V **2 *np.exp(-1 *(m *V **2) /(2 *k *T))\\\n",
    "        *4 *np.pi *((m) /(2 *np.pi *k *T)) **1.5\n",
    "    return f_V"
   ]
  },
  {
   "cell_type": "code",
   "execution_count": 44,
   "id": "5d6e9f17",
   "metadata": {},
   "outputs": [
    {
     "data": {
      "image/png": "[encoded data removed]",
      "text/plain": [
       "<Figure size 576x432 with 1 Axes>"
      ]
     },
     "metadata": {
      "needs_background": "light"
     },
     "output_type": "display_data"
    }
   ],
   "source": [
    "V = np.linspace(1, 2000000, 10000)\n",
    "# NP Defining velocity grid to evaluate velocity distribution on\n",
    "T_c = 15e6\n",
    "# NP Central temperature of the Sun\n",
    "v_distrib = f_V(m_p, 15 *10 **6, V)\n",
    "# NP Calculating velocity distribution for the Sun\n",
    "integrate_dis = np.array([np.trapz(v_distrib[V < i], V[V < i])\\\n",
    "    for i in V])\n",
    "# NP Inegrating distribution to find probability distribution\n",
    "f = plt.figure(figsize = [8, 6])\n",
    "# NP Making figure larger\n",
    "plt.plot(V, integrate_dis, 'g')\n",
    "# NP Plotting velocity distribution\n",
    "plt.xlabel(r'v ($m$ $s^{-1}$)')\n",
    "plt.ylabel(r'Probability')\n",
    "# NP Labeling axes\n",
    "plt.title('Velocity distribution for a proton\\n'\n",
    "    'in the core of the Sun')\n",
    "# NP Labeling plot\n",
    "plt.savefig('/d/www/nikhil/public_html/ASTR5420/images/'\\\n",
    "    'sunvdistrib.png')\n",
    "# NP Saving plot"
   ]
  },
  {
   "cell_type": "code",
   "execution_count": 45,
   "id": "02483128",
   "metadata": {},
   "outputs": [
    {
     "name": "stdout",
     "output_type": "stream",
     "text": [
      "Tunneling distance for upper 10 percentile: 3.53E+02 fm\n",
      "Tunneling distance for upper 0.1 percentile: 1.34E+02 fm\n"
     ]
    }
   ],
   "source": [
    "percentiles = [0.9, 0.999]\n",
    "# NP Defining percentiles to find speed for\n",
    "args = np.array([np.argmin(np.abs(integrate_dis -i))\\\n",
    "    for i in percentiles])\n",
    "# NP Finding index of speeds corresponding to percentiles\n",
    "vs = V[args]\n",
    "# NP Finding speeds corresponding to percentiles\n",
    "eps = 8.85e-12\n",
    "# NP Defining permetivitty of free space in mks units\n",
    "rs = (10**15 *(1.6e-19)**2) /(2 *np.pi *eps *m_p\\\n",
    "    *vs**2)-3\n",
    "# NP Calculating tunneling distance for different speeds\n",
    "print('Tunneling distance for upper 10 percentile: '\\\n",
    "    +format(rs[0], '.2E') +' fm')\n",
    "print('Tunneling distance for upper 0.1 percentile: '\\\n",
    "    +format(rs[1], '.2E') +' fm')\n",
    "# NP Printing results"
   ]
  },
  {
   "cell_type": "markdown",
   "id": "315f8e26",
   "metadata": {},
   "source": [
    "<h1>Problem 3</h1>"
   ]
  },
  {
   "cell_type": "markdown",
   "id": "0e9402c0",
   "metadata": {},
   "source": [
    "<h2>(a)</h2>"
   ]
  },
  {
   "cell_type": "code",
   "execution_count": 46,
   "id": "588ef9ea",
   "metadata": {},
   "outputs": [
    {
     "name": "stdout",
     "output_type": "stream",
     "text": [
      "Required mass for CNO cycle: 1.80E+00 Solar masses\n"
     ]
    }
   ],
   "source": [
    "R_o = 6.957e8\n",
    "# NP Radius of Sun\n",
    "M_o = 2e30\n",
    "# NP Mass of Sun\n",
    "G = 6.67e-11\n",
    "# NP Gravatational constant\n",
    "k = 1.38e-23\n",
    "# NP Boltzmann constant\n",
    "T_ci = np.array([17e6, 11e6])\n",
    "# NP Temperatures\n",
    "M_cs = (k *R_o *T_ci /(0.65 *G *m_p *M_o))**5\n",
    "# NP Calculating requires MS masses to achieve central\n",
    "# NPtemperatures\n",
    "print('Required mass for CNO cycle: ' +format(M_cs[0],\\\n",
    "    '.2E') +' Solar masses')\n",
    "# NP Printing result"
   ]
  },
  {
   "cell_type": "markdown",
   "id": "51347e4c",
   "metadata": {},
   "source": [
    "<h2>(b)</h2>"
   ]
  },
  {
   "cell_type": "code",
   "execution_count": 47,
   "id": "501def60",
   "metadata": {},
   "outputs": [
    {
     "name": "stdout",
     "output_type": "stream",
     "text": [
      "Required mass for proton-proton chain: 2.05E-01 Solar masses\n"
     ]
    }
   ],
   "source": [
    "print('Required mass for proton-proton chain: ' +format\\\n",
    "    (M_cs[1], '.2E') +' Solar masses')\n",
    "# NP Printing result"
   ]
  },
  {
   "cell_type": "markdown",
   "id": "f109385a",
   "metadata": {},
   "source": [
    "<h2>(c)</h2>"
   ]
  },
  {
   "cell_type": "code",
   "execution_count": 48,
   "id": "8902bb6e",
   "metadata": {},
   "outputs": [
    {
     "name": "stdout",
     "output_type": "stream",
     "text": [
      "Brown dwarf minimum mass: 1.43E+01 Jupiter masses\n"
     ]
    }
   ],
   "source": [
    "R_J = 7.15e7\n",
    "# NP Radius of Jupiter\n",
    "T_d = 2e6\n",
    "# NP Temperature for deuterium fusion\n",
    "M_J = 1.90e27\n",
    "# NP Mass of Jupiter\n",
    "M_bd = (k *R_J *T_d) /(G *0.65 *m_p *M_J)\n",
    "# NP Calulating mass required for deuterium fusion\n",
    "print('Brown dwarf minimum mass: ' +format(M_bd, '.2E')\\\n",
    "    +' Jupiter masses')\n",
    "# NP Printing result"
   ]
  },
  {
   "cell_type": "markdown",
   "id": "277c29ec",
   "metadata": {},
   "source": [
    "<h2>(d)</h2>"
   ]
  },
  {
   "cell_type": "code",
   "execution_count": 49,
   "id": "ca8aef70",
   "metadata": {},
   "outputs": [
    {
     "name": "stdout",
     "output_type": "stream",
     "text": [
      "Mass of core needed for deuterium fusion: 4.13E-01 Solar masses\n"
     ]
    }
   ],
   "source": [
    "T_he = 500e6\n",
    "# NP Temperature for triple alpha process\n",
    "M_he = ((k *R_o *T_he *(0.8) **(1/3)) /(65 *G *m_p *M_o))\\\n",
    "    **(.75)\n",
    "# NP Calculating mass for deuterium fusion\n",
    "print('Mass of core needed for deuterium fusion: '\\\n",
    "    +format(M_he, '.2E') +' Solar masses')\n",
    "# NP Printing result"
   ]
  },
  {
   "cell_type": "markdown",
   "id": "a102b101",
   "metadata": {},
   "source": [
    "<h1>Problem 4</h1>"
   ]
  },
  {
   "cell_type": "markdown",
   "id": "8977c76a",
   "metadata": {},
   "source": [
    "<h2>(a)</h2>"
   ]
  },
  {
   "cell_type": "code",
   "execution_count": 50,
   "id": "4a968617",
   "metadata": {},
   "outputs": [
    {
     "name": "stdout",
     "output_type": "stream",
     "text": [
      "mu: 1.24E+00\n",
      "P_c: 1.83E+15 Nm^-2\n"
     ]
    }
   ],
   "source": [
    "T_c = 11e6\n",
    "# NP Central temperature in K\n",
    "rho_c = 25 *1000\n",
    "# NP Central density in kg m^-3\n",
    "X = 0.74\n",
    "# NP Hydrogen fraction\n",
    "Y = 0.26\n",
    "# NP Helium fraction\n",
    "mu = 1 /(X +Y /4)\n",
    "# Equation 5.127\n",
    "print('mu: ' +format(mu, '.2E'))\n",
    "# NP Printing result\n",
    "P_c = rho_c *k *T_c /(mu *m_p)\n",
    "print('P_c: ' +format(P_c, '.2E') +' Nm^-2')"
   ]
  },
  {
   "cell_type": "code",
   "execution_count": 51,
   "id": "5c0e7746",
   "metadata": {},
   "outputs": [],
   "source": [
    "dr = 10 **-5 *R_o\n",
    "# NP Radius step\n",
    "T = [T_c]\n",
    "# NP Initial temperature array\n",
    "M = [0]\n",
    "# NP Inital mass array\n",
    "rho = [rho_c]\n",
    "# NP Initial density array\n",
    "L = [0]\n",
    "# NP Initial luminosity array\n",
    "R = [0]\n",
    "# NP Inital radius array\n",
    "g = [0]\n",
    "# NP Inital surface gravity array\n",
    "P = [P_c]\n",
    "# NP Inital pressure array\n",
    "i = 0\n",
    "# NP Iterator value\n",
    "L_o = 3.828e26\n",
    "# NP Solar Luminosity"
   ]
  },
  {
   "cell_type": "code",
   "execution_count": 52,
   "id": "a8adf533",
   "metadata": {},
   "outputs": [],
   "source": [
    "while(T[i] > 3000):\n",
    "# NP Iterating until temperature drops below 3000 K\n",
    "    R.append(R[i]+dr)\n",
    "    # NP updating radius\n",
    "    M.append(M[i] +rho[i] *4 *np.pi *R[i+1]**2 *dr)\n",
    "    # NP Updating mass\n",
    "    T.append(T[i] -((2/5) *(rho[i] *G *M[i+1]\\\n",
    "        *T[i] *dr)/(P[i] *R[i+1]**2)))\n",
    "    # NP Updating temperature\n",
    "    en = 2.4 *(rho[i] /1000) *X**2 /((T[i+1] /\\\n",
    "        (10 **9)) **(2/3)) *np.exp(-3.38/\\\n",
    "        (T[i+1]/(10**9)) **(1/3))\n",
    "    # NP Calculating energy per unit mass for a shell\n",
    "    L.append(L[i] +4*np.pi*R[i+1]**2*dr *rho[i] *en)\n",
    "    # NP Updating Luminosity\n",
    "    g.append(G *M[i+1]/(R[i+1]**2))\n",
    "    # NP Updating surface gravity\n",
    "    P.append(P[i] -rho[i] *g[i+1]*dr)\n",
    "    # NP Updating pressure\n",
    "    rho.append(mu *m_p *P[i+1] /(k *T[i+1]))\n",
    "    # NP Updating density\n",
    "    i += 1\n",
    "    # NP Increasing step\n",
    "R = np.array(R)\n",
    "M = np.array(M)\n",
    "T = np.array(T)\n",
    "rho = np.array(rho)\n",
    "P = np.array(P)\n",
    "g = np.array(g)\n",
    "L = np.array(L)\n",
    "# NP Converting lists to arrays at the end"
   ]
  },
  {
   "cell_type": "code",
   "execution_count": 59,
   "id": "982b967e",
   "metadata": {},
   "outputs": [
    {
     "name": "stdout",
     "output_type": "stream",
     "text": [
      "Final radius: 4.90E-01 R_o\n",
      "Final mass: 3.47E-01 M_o\n",
      "Final luminosity: 3.31E-02 L_o\n"
     ]
    }
   ],
   "source": [
    "print('Final radius: ' +format(R[len(R)-1] /R_o, '.2E') +' R_o')\n",
    "print('Final mass: ' +format(M[len(M)-1] /M_o, '.2E') +' M_o')\n",
    "print('Final luminosity: ' +format(L[len(L)-1] /L_o, '.2E') +' L_o')"
   ]
  },
  {
   "cell_type": "markdown",
   "id": "7fb3fb41",
   "metadata": {},
   "source": [
    "<h2>(b)</h2>"
   ]
  },
  {
   "cell_type": "code",
   "execution_count": 69,
   "id": "97be21f0",
   "metadata": {},
   "outputs": [
    {
     "name": "stdout",
     "output_type": "stream",
     "text": [
      "Predicted R: 4.29E-01 R_o\n",
      "Predicted L: 2.46E-02 L_o\n"
     ]
    }
   ],
   "source": [
    "R_p = (M[len(M)-1] /M_o) **0.8\n",
    "# NP Calculating predicted radius from MS relation\n",
    "print('Predicted R: ' +format(R_p, '.2E') +' R_o')\n",
    "# NP Printing result\n",
    "L_p = (M[len(M)-1] /M_o) **3.5\n",
    "# NP Calculating predicted luminosity from MS relation\n",
    "print('Predicted L: ' +format(L_p, '.2E') +' L_o')\n",
    "# NP Printing result"
   ]
  },
  {
   "cell_type": "markdown",
   "id": "3995f206",
   "metadata": {},
   "source": [
    "<h2>(c)</h2>"
   ]
  },
  {
   "cell_type": "code",
   "execution_count": 140,
   "id": "236f3615",
   "metadata": {},
   "outputs": [
    {
     "data": {
      "image/png": "[encoded data removed]",
      "text/plain": [
       "<Figure size 864x864 with 6 Axes>"
      ]
     },
     "metadata": {
      "needs_background": "light"
     },
     "output_type": "display_data"
    }
   ],
   "source": [
    "plt.figure(figsize = [12, 12])\n",
    "# NP Making figure larger\n",
    "plt.subplots_adjust(hspace=.3)\n",
    "plt.subplot(3, 2, 1)\n",
    "# NP First plot\n",
    "plt.title(r'Temperature $(K)$ as a function of'\n",
    "    'radius $(R_\\odot)$')\n",
    "plt.plot(R/R_o, T, 'k')\n",
    "plt.xlabel(r'$R$ $(R_\\odot)$')\n",
    "plt.ylabel('Temperature $(K)$')\n",
    "plt.subplot(3, 2, 2)\n",
    "# NP Second plot\n",
    "plt.title(r'Temperature $(K)$ as a function of'\n",
    "    'radius $(R_\\odot)$')\n",
    "plt.plot(R/R_o, T, 'k')\n",
    "plt.xlabel(r'$R$ $(R_\\odot)$')\n",
    "plt.ylabel('Temperature $(K)$')\n",
    "plt.yscale('log')\n",
    "plt.xscale('log')\n",
    "plt.subplot(3, 2, 3)\n",
    "# NP Third plot\n",
    "plt.title(r'Density $(kg$ $m^{-3})$ as a function of radius'\n",
    "    '$(R_\\odot)$')\n",
    "plt.plot(R/R_o, rho, 'r')\n",
    "plt.xlabel(r'$R$ $(R_\\odot)$')\n",
    "plt.ylabel(r'$\\rho$ $(kg$ $m^{-3})$')\n",
    "plt.subplot(3, 2, 4)\n",
    "# NP Fourth plot\n",
    "plt.title(r'Density $(kg$ $m^{-3})$ as a function of radius'\n",
    "    '$(R_\\odot)$')\n",
    "plt.plot(R/R_o, rho, 'r')\n",
    "plt.xlabel(r'$R$ $(R_\\odot)$')\n",
    "plt.ylabel(r'$\\rho$ $(kg$ $m^{-3})$')\n",
    "plt.yscale('log')\n",
    "plt.xscale('log')\n",
    "plt.subplot(3, 2, 5)\n",
    "# NP Fifth plot\n",
    "plt.title(r'Pressure $(N$ $m^{-2})$ as a function of radius'\n",
    "    '$(R_\\odot)$')\n",
    "plt.plot(R/R_o, P, 'g')\n",
    "plt.xlabel(r'$R$ $(R_\\odot)$')\n",
    "plt.ylabel('P $(N$ $m{-2})$')\n",
    "plt.subplot(3, 2, 6)\n",
    "# NP Sixth plot\n",
    "plt.title(r'Pressure $(N$ $m^{-2})$ as a function of radius'\n",
    "    '$(R_\\odot)$')\n",
    "plt.plot(R/R_o, P, 'g')\n",
    "plt.xlabel(r'$R$ $(R_\\odot)$')\n",
    "plt.ylabel('P $(N$ $m{-2})$')\n",
    "plt.yscale('log')\n",
    "plt.xscale('log')\n",
    "plt.savefig('/d/www/nikhil/public_html/ASTR5420/images/'\n",
    "    'tpPmlrelations1.png')\n",
    "# NP Saving figure"
   ]
  },
  {
   "cell_type": "code",
   "execution_count": 145,
   "id": "1a2af359",
   "metadata": {},
   "outputs": [
    {
     "data": {
      "image/png": "[encoded data removed]",
      "text/plain": [
       "<Figure size 864x576 with 4 Axes>"
      ]
     },
     "metadata": {
      "needs_background": "light"
     },
     "output_type": "display_data"
    }
   ],
   "source": [
    "plt.figure(figsize = [12, 8])\n",
    "# NP Setting figure size\n",
    "plt.subplots_adjust(hspace=.3)\n",
    "# NP Adjusting figure spacing\n",
    "plt.subplot(2, 2, 1)\n",
    "# NP First plot\n",
    "plt.title(r'Mass $(kg)$ as a function of radius'\n",
    "    '$(R_\\odot)$')\n",
    "plt.plot(R/R_o, M/M_o, 'b')\n",
    "plt.xlabel(r'$R$ $(R_\\odot)$')\n",
    "plt.ylabel('$M$ $(M_\\odot)$')\n",
    "plt.subplot(2, 2, 2)\n",
    "# NP Second plot\n",
    "plt.title(r'Mass $(kg)$ as a function of radius'\n",
    "    '$(R_\\odot)$')\n",
    "plt.plot(R/R_o, M/M_o, 'b')\n",
    "plt.xlabel(r'$R$ $(R_\\odot)$')\n",
    "plt.ylabel('$M$ $(M_\\odot)$')\n",
    "plt.yscale('log')\n",
    "plt.xscale('log')\n",
    "plt.subplot(2, 2, 3)\n",
    "# NP Third plot\n",
    "plt.title(r'Pressure $(L_\\odot)$ as a function of radius'\n",
    "    '$(R_\\odot)$')\n",
    "plt.plot(R/R_o, L/L_o, color = 'orange')\n",
    "plt.xlabel(r'$R$ $(R_\\odot)$')\n",
    "plt.ylabel('$L$ $(L_\\odot)$')\n",
    "plt.subplot(2, 2, 4)\n",
    "# NP Fourth plot\n",
    "plt.title(r'Pressure $(L_\\odot)$ as a function of radius'\n",
    "    '$(R_\\odot)$')\n",
    "plt.plot(R/R_o, L/L_o, color = 'orange')\n",
    "plt.xlabel(r'$R$ $(R_\\odot)$')\n",
    "plt.ylabel('$L$ $(L_\\odot)$')\n",
    "plt.xscale('log')\n",
    "plt.yscale('log')\n",
    "plt.savefig('/d/www/nikhil/public_html/ASTR5420/images/'\n",
    "    'tpPmlrelations2.png')\n",
    "# NP Saving figure"
   ]
  },
  {
   "cell_type": "markdown",
   "id": "fab50c92",
   "metadata": {},
   "source": [
    "<h2>(d)</h2>"
   ]
  },
  {
   "cell_type": "code",
   "execution_count": 147,
   "id": "7558fe71",
   "metadata": {},
   "outputs": [
    {
     "name": "stdout",
     "output_type": "stream",
     "text": [
      "Final radius: 5.14E-01 R_o\n",
      "Final mass: 4.00E-01 M_o\n",
      "Final luminosity: 5.94E-02 L_o\n"
     ]
    }
   ],
   "source": [
    "T_c = 11e6 *1.1\n",
    "# NP Central temperature in K\n",
    "rho_c = 25 *1000\n",
    "# NP Central density in kg m^-3\n",
    "X = 0.74\n",
    "# NP Hydrogen fraction\n",
    "Y = 0.26\n",
    "# NP Helium fraction\n",
    "mu = 1 /(X +Y /4)\n",
    "# Equation 5.127\n",
    "# NP Printing result\n",
    "P_c = rho_c *k *T_c /(mu *m_p)\n",
    "dr = 10 **-5 *R_o\n",
    "# NP Radius step\n",
    "T = [T_c]\n",
    "# NP Initial temperature array\n",
    "M = [0]\n",
    "# NP Inital mass array\n",
    "rho = [rho_c]\n",
    "# NP Initial density array\n",
    "L = [0]\n",
    "# NP Initial luminosity array\n",
    "R = [0]\n",
    "# NP Inital radius array\n",
    "g = [0]\n",
    "# NP Inital surface gravity array\n",
    "P = [P_c]\n",
    "# NP Inital pressure array\n",
    "i = 0\n",
    "# NP Iterator value\n",
    "while(T[i] > 3000):\n",
    "# NP Iterating until temperature drops below 3000 K\n",
    "    R.append(R[i]+dr)\n",
    "    # NP updating radius\n",
    "    M.append(M[i] +rho[i] *4 *np.pi *R[i+1]**2 *dr)\n",
    "    # NP Updating mass\n",
    "    T.append(T[i] -((2/5) *(rho[i] *G *M[i+1]\\\n",
    "        *T[i] *dr)/(P[i] *R[i+1]**2)))\n",
    "    # NP Updating temperature\n",
    "    en = 2.4 *(rho[i] /1000) *X**2 /((T[i+1] /\\\n",
    "        (10 **9)) **(2/3)) *np.exp(-3.38/\\\n",
    "        (T[i+1]/(10**9)) **(1/3))\n",
    "    # NP Calculating energy per unit mass for a shell\n",
    "    L.append(L[i] +4*np.pi*R[i+1]**2*dr *rho[i] *en)\n",
    "    # NP Updating Luminosity\n",
    "    g.append(G *M[i+1]/(R[i+1]**2))\n",
    "    # NP Updating surface gravity\n",
    "    P.append(P[i] -rho[i] *g[i+1]*dr)\n",
    "    # NP Updating pressure\n",
    "    rho.append(mu *m_p *P[i+1] /(k *T[i+1]))\n",
    "    # NP Updating density\n",
    "    i += 1\n",
    "    # NP Increasing step\n",
    "R = np.array(R)\n",
    "M = np.array(M)\n",
    "T = np.array(T)\n",
    "rho = np.array(rho)\n",
    "P = np.array(P)\n",
    "g = np.array(g)\n",
    "L = np.array(L)\n",
    "# NP Converting lists to arrays at the end\n",
    "print('Final radius: ' +format(R[len(R)-1] /R_o, '.2E') +' R_o')\n",
    "print('Final mass: ' +format(M[len(M)-1] /M_o, '.2E') +' M_o')\n",
    "print('Final luminosity: ' +format(L[len(L)-1] /L_o, '.2E') +' L_o')"
   ]
  },
  {
   "cell_type": "code",
   "execution_count": 148,
   "id": "b67b7976",
   "metadata": {},
   "outputs": [
    {
     "name": "stdout",
     "output_type": "stream",
     "text": [
      "Final radius: 4.67E-01 R_o\n",
      "Final mass: 3.31E-01 M_o\n",
      "Final luminosity: 3.47E-02 L_o\n"
     ]
    }
   ],
   "source": [
    "T_c = 11e6\n",
    "# NP Central temperature in K\n",
    "rho_c = 25 *1000 *1.1\n",
    "# NP Central density in kg m^-3\n",
    "X = 0.74\n",
    "# NP Hydrogen fraction\n",
    "Y = 0.26\n",
    "# NP Helium fraction\n",
    "mu = 1 /(X +Y /4)\n",
    "# Equation 5.127\n",
    "# NP Printing result\n",
    "P_c = rho_c *k *T_c /(mu *m_p)\n",
    "dr = 10 **-5 *R_o\n",
    "# NP Radius step\n",
    "T = [T_c]\n",
    "# NP Initial temperature array\n",
    "M = [0]\n",
    "# NP Inital mass array\n",
    "rho = [rho_c]\n",
    "# NP Initial density array\n",
    "L = [0]\n",
    "# NP Initial luminosity array\n",
    "R = [0]\n",
    "# NP Inital radius array\n",
    "g = [0]\n",
    "# NP Inital surface gravity array\n",
    "P = [P_c]\n",
    "# NP Inital pressure array\n",
    "i = 0\n",
    "# NP Iterator value\n",
    "while(T[i] > 3000):\n",
    "# NP Iterating until temperature drops below 3000 K\n",
    "    R.append(R[i]+dr)\n",
    "    # NP updating radius\n",
    "    M.append(M[i] +rho[i] *4 *np.pi *R[i+1]**2 *dr)\n",
    "    # NP Updating mass\n",
    "    T.append(T[i] -((2/5) *(rho[i] *G *M[i+1]\\\n",
    "        *T[i] *dr)/(P[i] *R[i+1]**2)))\n",
    "    # NP Updating temperature\n",
    "    en = 2.4 *(rho[i] /1000) *X**2 /((T[i+1] /\\\n",
    "        (10 **9)) **(2/3)) *np.exp(-3.38/\\\n",
    "        (T[i+1]/(10**9)) **(1/3))\n",
    "    # NP Calculating energy per unit mass for a shell\n",
    "    L.append(L[i] +4*np.pi*R[i+1]**2*dr *rho[i] *en)\n",
    "    # NP Updating Luminosity\n",
    "    g.append(G *M[i+1]/(R[i+1]**2))\n",
    "    # NP Updating surface gravity\n",
    "    P.append(P[i] -rho[i] *g[i+1]*dr)\n",
    "    # NP Updating pressure\n",
    "    rho.append(mu *m_p *P[i+1] /(k *T[i+1]))\n",
    "    # NP Updating density\n",
    "    i += 1\n",
    "    # NP Increasing step\n",
    "R = np.array(R)\n",
    "M = np.array(M)\n",
    "T = np.array(T)\n",
    "rho = np.array(rho)\n",
    "P = np.array(P)\n",
    "g = np.array(g)\n",
    "L = np.array(L)\n",
    "# NP Converting lists to arrays at the end\n",
    "print('Final radius: ' +format(R[len(R)-1] /R_o, '.2E') +' R_o')\n",
    "print('Final mass: ' +format(M[len(M)-1] /M_o, '.2E') +' M_o')\n",
    "print('Final luminosity: ' +format(L[len(L)-1] /L_o, '.2E') +' L_o')"
   ]
  },
  {
   "cell_type": "code",
   "execution_count": null,
   "id": "c1cef4c9",
   "metadata": {},
   "outputs": [],
   "source": []
  }
 ],
 "metadata": {
  "kernelspec": {
   "display_name": "Python 3 (ipykernel)",
   "language": "python",
   "name": "python3"
  },
  "language_info": {
   "codemirror_mode": {
    "name": "ipython",
    "version": 3
   },
   "file_extension": ".py",
   "mimetype": "text/x-python",
   "name": "python",
   "nbconvert_exporter": "python",
   "pygments_lexer": "ipython3",
   "version": "3.9.12"
  }
 },
 "nbformat": 4,
 "nbformat_minor": 5
}
