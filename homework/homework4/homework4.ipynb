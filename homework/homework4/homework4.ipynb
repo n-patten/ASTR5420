{
 "cells": [
  {
   "cell_type": "code",
   "execution_count": 411,
   "id": "dbd3547a",
   "metadata": {},
   "outputs": [],
   "source": [
    "import numpy as np\n",
    "import pandas as pd\n",
    "import matplotlib.pyplot as plt\n",
    "# NP Necessary imports"
   ]
  },
  {
   "cell_type": "code",
   "execution_count": 412,
   "id": "8be45386",
   "metadata": {},
   "outputs": [
    {
     "name": "stdout",
     "output_type": "stream",
     "text": [
      "A_B: 4.41E+00 mag\n",
      "E(B-V): 1.41E+00 mag\n",
      "B-V: 2.06E+00 mag\n",
      "R_V: 2.13E+00\n"
     ]
    }
   ],
   "source": [
    "A_V = 3\n",
    "# NP Visual extinction in atmosphere\n",
    "alpha = 1.8\n",
    "# NP Wavelength dependence in atmosphere\n",
    "l_B = 4450\n",
    "# NP Blue wavelength in Angstroms\n",
    "l_V = 5510\n",
    "# NP Visual wavelength in Angstroms\n",
    "A_B = A_V * (l_B/l_V)**(-1 *alpha)\n",
    "# NP B extinction calculation\n",
    "print('A_B: ' +format(A_B, '.2E') +' mag')\n",
    "# NP Printing result\n",
    "EBminusV = A_B - A_V\n",
    "# NP Reddening calculation\n",
    "print('E(B-V): ' +format(EBminusV, '.2E') +' mag')\n",
    "# NP Printing result\n",
    "BminusV_0 = 0.65\n",
    "# NP Sun's intrinsic color\n",
    "BminusV = BminusV_0 +A_B -A_V\n",
    "# NP Calculating Sun's observed color\n",
    "print('B-V: ' +format(BminusV, '.2E') +' mag')\n",
    "# NP Printing result\n",
    "R_V = A_V/EBminusV\n",
    "# NP Calculating relative visibility, R_V\n",
    "print('R_V: ' +format(R_V, '.2E'))\n",
    "# NP Printing result"
   ]
  },
  {
   "cell_type": "code",
   "execution_count": 413,
   "id": "92173710",
   "metadata": {},
   "outputs": [
    {
     "name": "stdout",
     "output_type": "stream",
     "text": [
      "alpha_MW: 1.31E+00\n"
     ]
    }
   ],
   "source": [
    "R_VMW = 3.1\n",
    "# NP Milky Way relative visibility\n",
    "alphamw = -1*np.log((1 +R_VMW)/R_VMW)/np.log(l_B/l_V)\n",
    "# NP Calculating wavelength dependence for Milky Way relative\n",
    "# NP visibility\n",
    "print('alpha_MW: ' +format(alphamw, '.2E'))"
   ]
  },
  {
   "cell_type": "code",
   "execution_count": 414,
   "id": "ad8165cb",
   "metadata": {},
   "outputs": [
    {
     "name": "stdout",
     "output_type": "stream",
     "text": [
      "CORE:\n",
      "Opacity: 3.00E-01 cm^2 g^-1\n",
      "l_ph: 3.33E-02 cm\n",
      "Steps taken: 2.72E+23\n",
      "Timescale: 9.63E+03 years\n"
     ]
    }
   ],
   "source": [
    "print('CORE:')\n",
    "# NP Printing label for this section\n",
    "X = 0.5\n",
    "# NP Hydrogen fraction in core\n",
    "K_Tc = 0.2* (1 +X)\n",
    "# NP Opacity in Sun's core\n",
    "print('Opacity: ' +format(K_Tc, '.2E') +' cm^2 g^-1')\n",
    "# NP Printing result\n",
    "rho_C = 100\n",
    "# NP Approximate density in Sun's core\n",
    "l_core = 1 /(K_Tc *rho_C)\n",
    "# NP Mean free path in Sun's core\n",
    "print('l_ph: ' +format(l_core, '.2E') +' cm')\n",
    "# NP Printing result\n",
    "R_o = 6.957e8\n",
    "# NP Defining solar radius in meters\n",
    "d_c = 0.25 *(R_o *1e2)\n",
    "# NP Calculating distance traveled by photon in cm\n",
    "N_core = (d_c/l_core) **2\n",
    "# Calculating number of steps taken by photon\n",
    "print('Steps taken: ' +format(N_core, '.2E'))\n",
    "# NP Displaying result\n",
    "c = 3e8\n",
    "# NP Defining speed of light in m/s\n",
    "t_core = N_core *(l_core /(c *10**2))\n",
    "# NP Calculating timescale\n",
    "print('Timescale: ' +format(t_core/(np.pi *10**7), '.2E') \\\n",
    "    +' years')\n",
    "# NP Printing result"
   ]
  },
  {
   "cell_type": "code",
   "execution_count": 415,
   "id": "05e41482",
   "metadata": {},
   "outputs": [
    {
     "name": "stdout",
     "output_type": "stream",
     "text": [
      "Middle:\n",
      "l_ph: 1.00E+00 cm\n",
      "Steps taken: 9.80E+20\n",
      "Timescale: 1.04E+03 years\n"
     ]
    }
   ],
   "source": [
    "print('Middle:')\n",
    "# NP Printing label for this section\n",
    "K_Tm = 1\n",
    "# NP Opacity in Sun, middle\n",
    "rho_m = 1\n",
    "# NP Density in Sun, middle\n",
    "l_m = 1 /(K_Tm *rho_m)\n",
    "# NP Mean free path in Sun, middle\n",
    "print('l_ph: ' +format(l_m, '.2E') +' cm')\n",
    "# NP Printing result\n",
    "d_m = (0.7 -0.25) *(R_o *1e2)\n",
    "# NP Calculating distance traveled by photon in cm\n",
    "N_m = (d_m/l_m) **2\n",
    "# Calculating number of steps taken by photon\n",
    "print('Steps taken: ' +format(N_m, '.2E'))\n",
    "# NP Displaying result\n",
    "t_m = N_m *(l_m /(c *10**2))\n",
    "# NP Calculating timescale\n",
    "print('Timescale: ' +format(t_m/(np.pi *10**7), '.2E') \\\n",
    "    +' years')\n",
    "# NP Printing result"
   ]
  },
  {
   "cell_type": "code",
   "execution_count": 416,
   "id": "c4a8e68c",
   "metadata": {},
   "outputs": [
    {
     "name": "stdout",
     "output_type": "stream",
     "text": [
      "Envelope:\n",
      "Timescale: 7.88E-02 years\n"
     ]
    }
   ],
   "source": [
    "print('Envelope:')\n",
    "# NP Printing label for this section\n",
    "M_o = 2*10**30\n",
    "# NP Defining mass of Sun in kg\n",
    "L_o = 3.828*10**26\n",
    "# NP Defining bolometric luminosity of Sun\n",
    "M_env = 0.02 *M_o\n",
    "# NP Defining envelope mass\n",
    "R_env = 0.3 *R_o\n",
    "# NP Defining envelope radius\n",
    "t_env = (M_env *R_o *R_env /L_o) **(1/3)\n",
    "print('Timescale: ' +format(t_env/(np.pi *10**7), '.2E') \\\n",
    "     +' years')"
   ]
  },
  {
   "cell_type": "code",
   "execution_count": 417,
   "id": "1f580893",
   "metadata": {},
   "outputs": [
    {
     "name": "stdout",
     "output_type": "stream",
     "text": [
      "t_esc: 1.07E+04 years\n"
     ]
    }
   ],
   "source": [
    "t_esc = t_core +t_m +t_env\n",
    "# NP Calculating total escape time\n",
    "print('t_esc: ' +format(t_esc/(np.pi *10**7), '.2E') +' years')\n",
    "# NP Printing result"
   ]
  },
  {
   "cell_type": "code",
   "execution_count": 427,
   "id": "43f0578d",
   "metadata": {},
   "outputs": [
    {
     "name": "stdout",
     "output_type": "stream",
     "text": [
      "Timescale: 2.08E+03 years\n"
     ]
    }
   ],
   "source": [
    "t_rad = (1-0.7) *R_o *1e2 *0.02 *M_o *1e3 *103 /(4 \\\n",
    "    *np.pi *(0.85 *R_o *1e2)**2 *c *1e2)\n",
    "# NP Calculating radiative timescale\n",
    "print('Timescale: ' +format(t_rad/(np.pi*10**7), '.2E')\\\n",
    "    +' years')\n",
    "# NP Printing result"
   ]
  },
  {
   "cell_type": "code",
   "execution_count": 446,
   "id": "b7348bd1",
   "metadata": {},
   "outputs": [
    {
     "name": "stdout",
     "output_type": "stream",
     "text": [
      "Ratio of flux emitted below photosphere: 8.98E-01\n"
     ]
    }
   ],
   "source": [
    "f1 = (7/4)*np.exp(-2/3)\n",
    "# NP Calculating ratio of flux below photosphere\n",
    "print('Ratio of flux emitted below photosphere: '\\\n",
    "    +format(f1, '.2E'))\n",
    "# NP Printing result"
   ]
  },
  {
   "cell_type": "code",
   "execution_count": 447,
   "id": "07fd542b",
   "metadata": {},
   "outputs": [
    {
     "name": "stdout",
     "output_type": "stream",
     "text": [
      "Ratio of flux emitted below photosphere: 9.84E-02\n"
     ]
    }
   ],
   "source": [
    "f2 = (27/8) *(6 -(314 *np.exp(-2/3)/27))\n",
    "# NP Calculating ratio of flux above photosphere\n",
    "print('Ratio of flux emitted below photosphere: '\\\n",
    "    +format(f2, '.2E'))\n",
    "# NP Printing result"
   ]
  },
  {
   "cell_type": "code",
   "execution_count": 448,
   "id": "4192b27a",
   "metadata": {},
   "outputs": [
    {
     "name": "stdout",
     "output_type": "stream",
     "text": [
      "Total flux: 9.97E-01\n"
     ]
    }
   ],
   "source": [
    "ftot = f1 +f2\n",
    "# NP Calculating totals\n",
    "print('Total flux: ' +format(ftot, '.2E'))\n",
    "# NP Printing Result"
   ]
  },
  {
   "cell_type": "code",
   "execution_count": 449,
   "id": "4b1efeab",
   "metadata": {},
   "outputs": [
    {
     "name": "stderr",
     "output_type": "stream",
     "text": [
      "/tmp/ipykernel_315015/361661287.py:5: DeprecationWarning: string or file could not be read to its end due to unmatched data; this will raise a ValueError in the future.\n",
      "  betteropa = [np.fromstring(goodopa[i][0], dtype = float, sep = ' ').tolist()\\\n"
     ]
    }
   ],
   "source": [
    "opa = pd.read_csv('/d/users/nikhil/Downloads/OPAL_SolarComposition.txt')\n",
    "# NP Reading in raw text file\n",
    "goodopa = opa.to_numpy()\n",
    "# NP Converting to numpy array\n",
    "betteropa = [np.fromstring(goodopa[i][0], dtype = float, sep = ' ').tolist()\\\n",
    "    for i in range(len(goodopa))]\n",
    "# NP Creating a table for opacities and temps., skipping first row\n",
    "bestopa = [betteropa[i+1][1:] for i in range(len(betteropa) -1)]\n",
    "# NP Creating a list of only opacities\n",
    "row_lengths = []\n",
    "for row in bestopa:\n",
    "    row_lengths.append(len(row))\n",
    "max_length = max(row_lengths)\n",
    "for row in bestopa:\n",
    "    while len(row) < max_length:\n",
    "        row.append(None)\n",
    "pristineopa = np.array(bestopa)\n",
    "# NP Creating numpy array of opacities to better parse through array\n",
    "logTs = np.array([betteropa[i+1][0] for i in range(len(betteropa)-1)])\n",
    "# NP Creating array of temperatures\n",
    "Tgrid = np.array([[t for r in range(len(logRs))] for t in logTs])\n",
    "# NP Creating 2D numpy array of temperatures\n",
    "logRs = np.array(np.fromstring(goodopa[0][0][6:], dtype = float, sep = ' '))\n",
    "# NP Creating array of R's\n",
    "Rgrid = np.array([[r for r in logRs] for t in range(len(logTs))])\n",
    "# NP Creating 2D numpy array of temperatures"
   ]
  },
  {
   "cell_type": "code",
   "execution_count": 451,
   "id": "611bc73c",
   "metadata": {},
   "outputs": [],
   "source": [
    "rhos = np.array([np.array([np.round(r +3 *(t -6) ,3) for r in logRs])\\\n",
    "    for t in logTs])"
   ]
  },
  {
   "cell_type": "code",
   "execution_count": 453,
   "id": "2a65ef32",
   "metadata": {},
   "outputs": [
    {
     "data": {
      "image/png": "[encoded data removed]",
      "text/plain": [
       "<Figure size 576x432 with 1 Axes>"
      ]
     },
     "metadata": {
      "needs_background": "light"
     },
     "output_type": "display_data"
    }
   ],
   "source": [
    "ineight = (np.abs(rhos+8) < 0.1)\n",
    "insix = (np.abs(rhos+6) < 0.1)\n",
    "infour = (np.abs(rhos+4) < 0.1)\n",
    "intwo = (np.abs(rhos+2) < 0.1)\n",
    "izero = (np.abs(rhos+0) < 0.1)\n",
    "itwo = (np.abs(rhos-2) < 0.1)\n",
    "# NP Creating indices for each density\n",
    "plt.figure(figsize = [8, 6])\n",
    "# NP Making figure larger\n",
    "plt.plot(Tgrid[ineight], pristineopa[ineight], 'r', label = r'$\\rho=-8$')\n",
    "plt.plot(Tgrid[insix], pristineopa[insix], color = 'orange', label = r'$\\rho=-6$')\n",
    "plt.plot(Tgrid[infour], pristineopa[infour], 'g', label = r'$\\rho=-4$')\n",
    "plt.plot(Tgrid[intwo], pristineopa[intwo], color = 'cyan', label = r'$\\rho=-2$')\n",
    "plt.plot(Tgrid[izero], pristineopa[izero], color = 'blue', label = r'$\\rho=0$')\n",
    "plt.plot(Tgrid[itwo], pristineopa[itwo], color = 'purple', label = r'$\\rho=2$')\n",
    "# NP Plotting opacity as a function of T for each opacity\n",
    "plt.xlabel(r'$\\logT$')\n",
    "plt.ylabel(r'$\\kappa_R$')\n",
    "# NP Labeling axes\n",
    "plt.legend()\n",
    "# NP Creating legend\n",
    "plt.title(r'Opacities as a function of $\\logT$' +'\\n'\n",
    "    'for different densities')\n",
    "# NP Creating title\n",
    "plt.savefig('/d/www/nikhil/public_html/ASTR5420/images/'\n",
    "    'opacitiesdensities.png')\n",
    "# NP Saving figure"
   ]
  },
  {
   "cell_type": "code",
   "execution_count": 457,
   "id": "1aa58f3c",
   "metadata": {},
   "outputs": [
    {
     "name": "stdout",
     "output_type": "stream",
     "text": [
      "logC = 24.585\n"
     ]
    }
   ],
   "source": [
    "kramer = pristineopa[np.argwhere(logTs == 6)[0][0]]\\\n",
    "    [np.argwhere(logRs == -3.0)[0][0]]\n",
    "# NP Finding Kramer opacity from table\n",
    "C = kramer -rhos[np.argwhere(logTs == 6)[0][0]]\\\n",
    "    [np.argwhere(logRs == -3.0)[0][0]] +3.5*\\\n",
    "    (Tgrid[np.argwhere(logTs == 6)[0][0]]\\\n",
    "    [np.argwhere(logRs == -3.0)[0][0]])\n",
    "# NP Calculating C\n",
    "kgrid = np.array([[C +rhos[t][r] -3.5*Tgrid[t][r] for\\\n",
    "    r in range(len(Tgrid[t]))] for t in range(len(Tgrid))])\n",
    "# NP Creating kramer opacities for each point in table\n",
    "print('logC = ' +str(C))\n",
    "# NP Printing result"
   ]
  },
  {
   "cell_type": "code",
   "execution_count": 458,
   "id": "87514652",
   "metadata": {},
   "outputs": [
    {
     "data": {
      "image/png": "[encoded data removed]",
      "text/plain": [
       "<Figure size 576x432 with 1 Axes>"
      ]
     },
     "metadata": {
      "needs_background": "light"
     },
     "output_type": "display_data"
    }
   ],
   "source": [
    "plt.figure(figsize = [8, 6])\n",
    "# NP Making figure larger\n",
    "plt.plot(Tgrid[ineight], pristineopa[ineight]-kgrid[ineight],\\\n",
    "    'r', label = r'$\\rho=-8$')\n",
    "plt.plot(Tgrid[insix], pristineopa[insix]-kgrid[insix],\\\n",
    "    color = 'orange', label = r'$\\rho=-6$')\n",
    "plt.plot(Tgrid[infour], pristineopa[infour]-kgrid[infour],\\\n",
    "    'g', label = r'$\\rho=-4$')\n",
    "plt.plot(Tgrid[intwo], pristineopa[intwo]-kgrid[intwo],\\\n",
    "    color = 'cyan', label = r'$\\rho=-2$')\n",
    "plt.plot(Tgrid[izero], pristineopa[izero]-kgrid[izero],\\\n",
    "    color = 'blue', label = r'$\\rho=0$')\n",
    "plt.plot(Tgrid[itwo], pristineopa[itwo]-kgrid[itwo], color\\\n",
    "    = 'purple', label = r'$\\rho=2$')\n",
    "# NP Plotting difference in log of opacities for each density\n",
    "plt.xlabel(r'$\\logT$')\n",
    "plt.ylabel(r'$\\kappa_R/\\kappa_K$')\n",
    "# NP Labeling axes\n",
    "plt.legend()\n",
    "# NP Creating legend\n",
    "plt.title(r'Opacities as a function of $\\logT$' +'\\n'\n",
    "    'for different densities')\n",
    "# NP Creating title for plot\n",
    "plt.savefig('/d/www/nikhil/public_html/ASTR5420/images/opacity'\n",
    "    'densitydeviation.png')\n",
    "# NP Saving figure"
   ]
  },
  {
   "cell_type": "code",
   "execution_count": null,
   "id": "02dcaf8f",
   "metadata": {},
   "outputs": [],
   "source": []
  }
 ],
 "metadata": {
  "kernelspec": {
   "display_name": "Python 3 (ipykernel)",
   "language": "python",
   "name": "python3"
  },
  "language_info": {
   "codemirror_mode": {
    "name": "ipython",
    "version": 3
   },
   "file_extension": ".py",
   "mimetype": "text/x-python",
   "name": "python",
   "nbconvert_exporter": "python",
   "pygments_lexer": "ipython3",
   "version": "3.9.12"
  }
 },
 "nbformat": 4,
 "nbformat_minor": 5
}
