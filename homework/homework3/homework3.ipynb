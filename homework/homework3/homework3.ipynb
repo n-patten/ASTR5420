{
 "cells": [
  {
   "cell_type": "code",
   "execution_count": 170,
   "id": "87cbbf6f",
   "metadata": {},
   "outputs": [],
   "source": [
    "import numpy as np\n",
    "import pandas as pd\n",
    "import matplotlib.pyplot as plt"
   ]
  },
  {
   "cell_type": "code",
   "execution_count": 2,
   "id": "99d0564e",
   "metadata": {},
   "outputs": [
    {
     "name": "stdout",
     "output_type": "stream",
     "text": [
      "Free fall time: 7.81E+02 seconds\n"
     ]
    }
   ],
   "source": [
    "G = 6.67e-11\n",
    "Rv = 6.792e6\n",
    "g = 9.8\n",
    "t_ff = (np.pi/2)*np.sqrt(Rv/(2.8*g))\n",
    "print('Free fall time: ' +format(t_ff, '.2E') +' seconds')"
   ]
  },
  {
   "cell_type": "code",
   "execution_count": 3,
   "id": "5c842865",
   "metadata": {},
   "outputs": [
    {
     "name": "stdout",
     "output_type": "stream",
     "text": [
      "Temperature 1: 2.04E+04 K\n",
      "Temperature 2: 3.69E+04 K\n"
     ]
    }
   ],
   "source": [
    "M_s = [8, 30]\n",
    "L_o = 3.828e26\n",
    "o = 5.67e-8\n",
    "R_o = 6.957e8\n",
    "T_eff = [((2600 *L_o)/(4 *np.pi *(4.1 *R_o)**2 *o))**0.25 *(m/8)**0.45 for m in M_s]\n",
    "print('Temperature 1: ' +format(T_eff[0], '.2E') +' K')\n",
    "print('Temperature 2: ' +format(T_eff[1], '.2E') +' K')"
   ]
  },
  {
   "cell_type": "code",
   "execution_count": 4,
   "id": "59fdba31",
   "metadata": {},
   "outputs": [],
   "source": [
    "wavl = np.linspace(10, 100000, 100000)\n",
    "# NP Wavelength range in Angstroms\n",
    "h = 6.63e-34\n",
    "k = 1.38e-23\n",
    "c = 3e8\n",
    "B_l = [((2 *h *c**2 *10**43)/((wavl)**5)) *(1/(np.exp(h *c *10**10/\\\n",
    "    ((wavl) *k *t))-1)) for t in T_eff]\n",
    "# NP Units of erg s^-1 cm^-2 A^-1 sr^-1"
   ]
  },
  {
   "cell_type": "code",
   "execution_count": 5,
   "id": "c943cee1",
   "metadata": {},
   "outputs": [
    {
     "name": "stdout",
     "output_type": "stream",
     "text": [
      "Fraction beyond Lyman limit: 0.046\n",
      "Fraction beyond Lyman limit: 0.354\n"
     ]
    },
    {
     "data": {
      "image/png": "[encoded data removed]",
      "text/plain": [
       "<Figure size 576x432 with 1 Axes>"
      ]
     },
     "metadata": {
      "needs_background": "light"
     },
     "output_type": "display_data"
    }
   ],
   "source": [
    "ily = wavl < 914\n",
    "plt.figure(figsize = [8, 6])\n",
    "plt.plot(wavl, B_l[0], 'c', label = 'B2 star')\n",
    "plt.plot(wavl, B_l[1], 'b', label = 'O7 star')\n",
    "plt.fill_between(wavl[ily], y1 = B_l[1][ily], y2 = 0, color = 'blue')\n",
    "plt.fill_between(wavl[ily], y1 = (B_l[0][ily]), y2 = 0, color = 'cyan')\n",
    "plt.axvline(x = 914, ymin = 0.00, ymax = 0.95, color = 'k', lw = 1)\n",
    "plt.text(914-200, 2.8e10, 'Lyman limit')\n",
    "plt.xlim(0, 4000)\n",
    "plt.legend()\n",
    "plt.xlabel(r'Wavelength ($\\AA$)')\n",
    "plt.ylabel(r'Flux density ($erg$ $s^{-1}cm^{-2}\\AA^{-1}$)')\n",
    "plt.savefig('/d/www/nikhil/public_html/ASTR5420/images/OandBstarUV.png')\n",
    "print('Fraction beyond Lyman limit: ' +\\\n",
    "    str(np.round(np.trapz(B_l[0][ily], wavl[ily])/np.trapz(B_l[0], wavl), 3)))\n",
    "print('Fraction beyond Lyman limit: ' +\\\n",
    "    str(np.round(np.trapz(B_l[1][ily], wavl[ily])/np.trapz(B_l[1], wavl), 3)))"
   ]
  },
  {
   "cell_type": "code",
   "execution_count": 33,
   "id": "a15fece7",
   "metadata": {},
   "outputs": [
    {
     "name": "stdout",
     "output_type": "stream",
     "text": [
      "Ionizing photon rate: 5.79E+45 ph/s\n",
      "Ionizing photon rate: 2.03E+48 ph/s\n"
     ]
    }
   ],
   "source": [
    "R_s = [4.1*(m/8)**0.6 *R_o *1e2 for m in M_s]\n",
    "N = [np.trapz((B_l[i][ily])/(6.63*10**-34 *3e8 *10**10/wavl[ily]),\\\n",
    "    wavl[ily])*10**-7 *4*np.pi*R_s[i]**2 for i in range(len(B_l))]\n",
    "print('Ionizing photon rate: ' +format(N[0], '.2E') +' ph/s')\n",
    "print('Ionizing photon rate: ' +format(N[1], '.2E') +' ph/s')"
   ]
  },
  {
   "cell_type": "code",
   "execution_count": 34,
   "id": "2ab00f62",
   "metadata": {},
   "outputs": [
    {
     "name": "stdout",
     "output_type": "stream",
     "text": [
      "Total ionizing photon rate: 1.27E+47 ph/s\n",
      "Total ionizing photon rate: 2.03E+48 ph/s\n"
     ]
    }
   ],
   "source": [
    "nstars = [22, 1]\n",
    "Ntot = [nstars[i] *N[i] for i in range(len(N))]\n",
    "print('Total ionizing photon rate: ' +format(Ntot[0], '.2E') +' ph/s')\n",
    "print('Total ionizing photon rate: ' +format(Ntot[1], '.2E') +' ph/s')"
   ]
  },
  {
   "cell_type": "code",
   "execution_count": 35,
   "id": "43f06196",
   "metadata": {},
   "outputs": [
    {
     "name": "stdout",
     "output_type": "stream",
     "text": [
      "Stromgren radius: 1.00E+19 cm\n",
      "Stromgren radius: 2.53E+19 cm\n"
     ]
    }
   ],
   "source": [
    "nH = 10\n",
    "alpha_R = 3e-13\n",
    "R_strom = [((3 *n)/(4 *np.pi *alpha_R *nH**2))**(1/3) for n in Ntot]\n",
    "print('Stromgren radius: ' +format(R_strom[0], '.2E') +' cm')\n",
    "print('Stromgren radius: ' +format(R_strom[1], '.2E') +' cm')"
   ]
  },
  {
   "cell_type": "code",
   "execution_count": 45,
   "id": "2e039e29",
   "metadata": {},
   "outputs": [
    {
     "name": "stdout",
     "output_type": "stream",
     "text": [
      "T Tauri disk lifetime: 6.38E+00 Myr\n"
     ]
    }
   ],
   "source": [
    "M_o = 2e30\n",
    "DM = 0.3 *M_o\n",
    "R_tstar = 1.5 *R_o\n",
    "t_kh = (M_o *DM *G)/(R_tstar *L_o)\n",
    "print('T Tauri disk lifetime: ' +format(t_kh/(np.pi*10**13), '.2E')\\\n",
    "    +' Myr')"
   ]
  },
  {
   "cell_type": "code",
   "execution_count": 51,
   "id": "5270e3ec",
   "metadata": {},
   "outputs": [
    {
     "name": "stdout",
     "output_type": "stream",
     "text": [
      "dm/dt = 4.70E-08 M_o yr^-1\n"
     ]
    }
   ],
   "source": [
    "dmdt = DM/t_kh\n",
    "print('dm/dt = ' +format(dmdt *np.pi *10**7/M_o, '.2E') +' M_o yr^-1')"
   ]
  },
  {
   "cell_type": "code",
   "execution_count": 266,
   "id": "0657cd42",
   "metadata": {},
   "outputs": [
    {
     "name": "stdout",
     "output_type": "stream",
     "text": [
      "Temp. at boundary: 6.67E+03 K\n",
      "Temp. at 3R_*: 2.92E+03 K\n",
      "T_eff: 4.26E+03 K\n",
      "Ratio at boundary: 1.57E+00\n",
      "Ratio at 3R_*: 6.87E-01\n"
     ]
    }
   ],
   "source": [
    "R_tauridiff = [R_tstar, 3*R_tstar]\n",
    "T = [((G*M_o)/(np.pi *5.67e-8) *dmdt *1/(r**3))**0.25 for r in R_tauridiff]\n",
    "print('Temp. at boundary: ' +format(T[0], '.2E') +' K')\n",
    "print('Temp. at 3R_*: ' +format(T[1], '.2E') +' K')\n",
    "T_effstar = (L_o/(4 *np.pi *(1.5 *5.67e-8 *(1.5 *R_o)**2)))**0.25\n",
    "print('T_eff: ' +format(T_effstar, '.2E') +' K')\n",
    "print('Ratio at boundary: ' +format(T[0]/T_effstar, '.2E'))\n",
    "print('Ratio at 3R_*: ' +format(T[1]/T_effstar, '.2E'))"
   ]
  },
  {
   "cell_type": "code",
   "execution_count": 147,
   "id": "68a2e48f",
   "metadata": {},
   "outputs": [
    {
     "data": {
      "image/png": "[encoded data removed]",
      "text/plain": [
       "<Figure size 576x432 with 1 Axes>"
      ]
     },
     "metadata": {
      "needs_background": "light"
     },
     "output_type": "display_data"
    }
   ],
   "source": [
    "Ms = np.linspace(0.08, 120, 10000)\n",
    "ilow = Ms < 0.8\n",
    "ihigh = Ms >= .8\n",
    "N_low = (Ms[ilow]/.8)**-1.3\n",
    "N_high = (Ms[ihigh]/.8)**-2.35\n",
    "N_mdm = np.concatenate((N_low, N_high))\n",
    "plt.figure(figsize=[8,6])\n",
    "plt.xscale('log')\n",
    "plt.yscale('log')\n",
    "plt.xlabel(r'Mass($M_\\odot$)')\n",
    "plt.ylabel(r'$N(m)dm$')\n",
    "plt.title('Kroupa IMF')\n",
    "normalnmdm = (N_mdm)/(np.trapz(N_mdm, Ms))\n",
    "plt.plot(Ms, normalnmdm, 'k')\n",
    "plt.savefig('/d/www/nikhil/public_html/ASTR5420/images/Kroupa.png')"
   ]
  },
  {
   "cell_type": "code",
   "execution_count": 148,
   "id": "3c9f320c",
   "metadata": {},
   "outputs": [
    {
     "name": "stdout",
     "output_type": "stream",
     "text": [
      "Fraction of M dwarfs: 7.19E-01\n"
     ]
    }
   ],
   "source": [
    "mdwarf = (Ms >= 0.08) & (Ms < 0.55)\n",
    "print('Fraction of M dwarfs: ' +format(np.trapz(normalnmdm[mdwarf],\\\n",
    "    Ms[mdwarf]), '.2E'))"
   ]
  },
  {
   "cell_type": "code",
   "execution_count": 149,
   "id": "e7d825b1",
   "metadata": {},
   "outputs": [
    {
     "name": "stdout",
     "output_type": "stream",
     "text": [
      "Core-collapse fraction: 7.92E-03\n",
      "Early B fraction: 5.19E-03\n",
      "O fraction: 2.73E-03\n"
     ]
    }
   ],
   "source": [
    "collapse = (Ms >= 8)\n",
    "eB = (Ms > 8) & (Ms < 17)\n",
    "iO = (Ms > 17)\n",
    "print('Core-collapse fraction: ' +format(np.trapz(normalnmdm[collapse],\\\n",
    "    Ms[collapse]), '.2E'))\n",
    "print('Early B fraction: ' +format(np.trapz(normalnmdm[eB], Ms[eB]),\\\n",
    "    '.2E'))\n",
    "print('O fraction: ' +format(np.trapz(normalnmdm[iO], Ms[iO]), '.2E'))"
   ]
  },
  {
   "cell_type": "code",
   "execution_count": 159,
   "id": "58296bb0",
   "metadata": {},
   "outputs": [
    {
     "data": {
      "image/png": "[encoded data removed]",
      "text/plain": [
       "<Figure size 576x432 with 1 Axes>"
      ]
     },
     "metadata": {
      "needs_background": "light"
     },
     "output_type": "display_data"
    }
   ],
   "source": [
    "plt.figure(figsize=[8, 6])\n",
    "MNmdm = (Ms/0.8)*N_mdm\n",
    "plt.xscale('log')\n",
    "plt.yscale('log')\n",
    "MNmdmnorm = MNmdm/np.trapz(MNmdm, Ms)\n",
    "plt.plot(Ms, MNmdm, 'r')\n",
    "plt.xlabel(r'Mass($M_\\odot$)')\n",
    "plt.ylabel(r'$mN(m)dm$')\n",
    "plt.title('Kroupa mass distribution')\n",
    "plt.savefig('/d/www/nikhil/public_html/ASTR5420/images/Kroupamass.png')"
   ]
  },
  {
   "cell_type": "code",
   "execution_count": 161,
   "id": "6ae94a7e",
   "metadata": {},
   "outputs": [
    {
     "name": "stdout",
     "output_type": "stream",
     "text": [
      "Mass fraction of stars greater than solar mass: 6.12E-01\n"
     ]
    }
   ],
   "source": [
    "tengiga = Ms > 1\n",
    "print('Mass fraction of stars greater than solar mass: '\\\n",
    "      +format(np.trapz(MNmdmnorm[tengiga], Ms[tengiga]), '.2E'))"
   ]
  },
  {
   "cell_type": "code",
   "execution_count": 169,
   "id": "f0b79a9e",
   "metadata": {},
   "outputs": [
    {
     "name": "stdout",
     "output_type": "stream",
     "text": [
      "Brown dwarf mass ratio: 2.47E-01\n"
     ]
    }
   ],
   "source": [
    "Mbrown = np.linspace(0.013, 120, 10000)\n",
    "bdwarf = (Mbrown > 0.013) & (Mbrown < 0.55)\n",
    "print('Brown dwarf mass ratio: ' +format(np.trapz(MNmdmnorm[bdwarf], Mbrown[bdwarf]), '.2E'))"
   ]
  },
  {
   "cell_type": "code",
   "execution_count": 189,
   "id": "a68dbdd8",
   "metadata": {},
   "outputs": [],
   "source": [
    "M_03 = pd.read_csv('/d/users/nikhil/Downloads/PISA_0p3Msun.csv')\n",
    "M_1 = pd.read_csv('/d/users/nikhil/Downloads/PISA_1p0Msun.csv')\n",
    "M_3 = pd.read_csv('/d/users/nikhil/Downloads/PISA_3p0Msun.csv')\n",
    "models = [M_03, M_1, M_3]\n",
    "ages = [m['      logAge'] for m in models]\n",
    "lum = [m['     logL'] for m in models]\n",
    "Te = [m['    logTe'] for m in models]\n",
    "Tc = [m['    logTc'] for m in models]\n",
    "rhoC = [m['  logrhoC'] for m in models]\n",
    "Fpp = [m['       Fpp'] for m in models]\n",
    "Fcno = [m['      Fcno'] for m in models]\n",
    "Fgra = [m['      Fgra'] for m in models]"
   ]
  },
  {
   "cell_type": "code",
   "execution_count": 324,
   "id": "a174a85e",
   "metadata": {},
   "outputs": [
    {
     "data": {
      "image/png": "[encoded data removed]",
      "text/plain": [
       "<Figure size 576x432 with 3 Axes>"
      ]
     },
     "metadata": {
      "needs_background": "light"
     },
     "output_type": "display_data"
    }
   ],
   "source": [
    "ifg = [np.argmin(f-.5) for f in Fgra]\n",
    "plt.figure(figsize = [8, 6])\n",
    "plt.subplot(1, 3, 1)\n",
    "plt.ylabel(r'$\\logL$')\n",
    "plt.plot(Te[0], lum[0], '--r', label = '0.3M_o')\n",
    "plt.plot(Te[0][ifg[0]], lum[0][ifg[0]], 'ok', label = 'Fgrav = 0.5')\n",
    "plt.gca().invert_xaxis()\n",
    "plt.legend()\n",
    "plt.subplot(1, 3, 2)\n",
    "plt.title('Pre MS evolutionary track')\n",
    "plt.plot(Te[1], lum[1], '--', color = 'orange', label = '1M_o')\n",
    "plt.plot(Te[1][ifg[1]], lum[1][ifg[1]], 'ok', label = 'Fgrav = 0.5')\n",
    "plt.gca().invert_xaxis()\n",
    "plt.xlabel(r'$\\logT$')\n",
    "plt.legend()\n",
    "plt.subplot(1, 3, 3)\n",
    "plt.plot(Te[2], lum[2], '--b', label = '3M_o')\n",
    "plt.plot(Te[2][ifg[2]], lum[2][ifg[2]], 'ok', label = 'Fgrav = 0.5')\n",
    "plt.gca().invert_xaxis()\n",
    "plt.legend()\n",
    "plt.savefig('/d/www/nikhil/public_html/ASTR5420/images/HRD.png')"
   ]
  },
  {
   "cell_type": "code",
   "execution_count": 295,
   "id": "98967378",
   "metadata": {},
   "outputs": [
    {
     "name": "stdout",
     "output_type": "stream",
     "text": [
      "Pre-main sequence begins at 3.55E+06 years for 0.3M_o star.\n",
      "Pre-main sequence begins at 7.07E+05 years for 1M_o star.\n",
      "Pre-main sequence begins at 2.67E+05 years for 3M_o star.\n"
     ]
    }
   ],
   "source": [
    "ags = [10**(a[0]) for a in ages]\n",
    "print('Pre-main sequence begins at ' +format(ags[0], '.2E') +' years for 0.3M_o star.')\n",
    "print('Pre-main sequence begins at ' +format(ags[1], '.2E') +' years for 1M_o star.')\n",
    "print('Pre-main sequence begins at ' +format(ags[2], '.2E') +' years for 3M_o star.')"
   ]
  },
  {
   "cell_type": "code",
   "execution_count": 318,
   "id": "d8dc6a55",
   "metadata": {},
   "outputs": [
    {
     "name": "stdout",
     "output_type": "stream",
     "text": [
      "Inital luminosity: 3.40E+00 L_o\n",
      "Initial T: 4.49E+03 K\n",
      "Inital radius: 3.05E+00 R_o\n"
     ]
    }
   ],
   "source": [
    "print('Inital luminosity: ' +format(10**(lum[1][0]), '.2E') +' L_o')\n",
    "print('Initial T: ' +format(10**(Te[1][0]), '.2E') +' K')\n",
    "print('Inital radius: ' +format((((10**(lum[1][0]) *L_o)/\\\n",
    "    (4 *np.pi *5.67e-8 *(10**(Te[1][0]))**4))**0.5)/(R_o), '.2E') +' R_o')"
   ]
  },
  {
   "cell_type": "code",
   "execution_count": 297,
   "id": "aff3a06c",
   "metadata": {},
   "outputs": [
    {
     "name": "stdout",
     "output_type": "stream",
     "text": [
      "5.97E+08 years spent on pre-main sequence for 0.3M_o star.\n",
      "3.27E+07 years spent on pre-main sequence for 1M_o star.\n",
      "3.77E+06 years spent on pre-main sequence for 3M_o star.\n"
     ]
    }
   ],
   "source": [
    "ags = [10**(a[len(a)-1])-10**(a[0]) for a in ages]\n",
    "print(format(ags[0], '.2E') +' years spent on pre-main sequence for 0.3M_o star.')\n",
    "print(format(ags[1], '.2E') +' years spent on pre-main sequence for 1M_o star.')\n",
    "print(format(ags[2], '.2E') +' years spent on pre-main sequence for 3M_o star.')"
   ]
  },
  {
   "cell_type": "code",
   "execution_count": 326,
   "id": "404f98bd",
   "metadata": {},
   "outputs": [
    {
     "name": "stdout",
     "output_type": "stream",
     "text": [
      "ZAMS luminosity: 8.26E-01 L_o\n",
      "ZAMS T: 5.77E+03 K\n",
      "ZAMS radius: 9.10E-01 R_o\n"
     ]
    }
   ],
   "source": [
    "print('ZAMS luminosity: ' +format(10**(lum[1][len(lum[1])-1]), '.2E') +' L_o')\n",
    "print('ZAMS T: ' +format(10**(Te[1][len(Te[1])-1]), '.2E') +' K')\n",
    "print('ZAMS radius: ' +format((((10**(lum[1][len(lum[1])-1]) *L_o)/\\\n",
    "    (4 *np.pi *5.67e-8 *(10**(Te[1][len(Te[1])-1]))**4))**0.5)/(R_o), '.2E') +' R_o')"
   ]
  },
  {
   "cell_type": "code",
   "execution_count": null,
   "id": "cfdc3126",
   "metadata": {},
   "outputs": [],
   "source": []
  }
 ],
 "metadata": {
  "kernelspec": {
   "display_name": "Python 3 (ipykernel)",
   "language": "python",
   "name": "python3"
  },
  "language_info": {
   "codemirror_mode": {
    "name": "ipython",
    "version": 3
   },
   "file_extension": ".py",
   "mimetype": "text/x-python",
   "name": "python",
   "nbconvert_exporter": "python",
   "pygments_lexer": "ipython3",
   "version": "3.9.12"
  }
 },
 "nbformat": 4,
 "nbformat_minor": 5
}
