{
 "cells": [
  {
   "cell_type": "code",
   "execution_count": 17,
   "id": "8f137efa",
   "metadata": {},
   "outputs": [],
   "source": [
    "import numpy as np\n",
    "import pandas as pd\n",
    "import matplotlib.pyplot as plt\n",
    "from scipy.interpolate import interp2d\n",
    "# NP Necessary imports"
   ]
  },
  {
   "cell_type": "code",
   "execution_count": 161,
   "id": "fe71e63a",
   "metadata": {},
   "outputs": [],
   "source": [
    "R_o = 6.957e8\n",
    "# NP Radius of Sun\n",
    "G = 6.67e-11\n",
    "# NP Gravatational constant\n",
    "L_o = 3.828e26\n",
    "# NP Luminosity of Sun\n",
    "M_o = 2e30\n",
    "# NP Mass of Sun\n",
    "m_p = 1.67e-27\n",
    "# NP Mass of proton\n",
    "h = 6.63e-34\n",
    "# NP Planck's constant\n",
    "c = 3e8\n",
    "# NP Speed of light\n",
    "o = 5.67e-8\n",
    "# NP Stefan-Boltzmann constant\n",
    "# NP Useful constants in SI (mks) units"
   ]
  },
  {
   "cell_type": "markdown",
   "id": "87313c4d",
   "metadata": {},
   "source": [
    "<h1>Problem 4</h1>"
   ]
  },
  {
   "cell_type": "markdown",
   "id": "0e735afe",
   "metadata": {},
   "source": [
    "<h2>(b)</h2>"
   ]
  },
  {
   "cell_type": "code",
   "execution_count": 147,
   "id": "ab2d36ba",
   "metadata": {},
   "outputs": [
    {
     "name": "stdout",
     "output_type": "stream",
     "text": [
      "Fully relativistic mass: 1.44E+00 Solar Masses\n"
     ]
    }
   ],
   "source": [
    "M = ((2.02 *8) /(np.sqrt(4 *np.pi) *G **(3/2)))\\\n",
    "    *np.sqrt(3 /np.pi) *((h *c) **(3/2) /(8\\\n",
    "    **(3/2) *(2 *m_p) **2))\n",
    "# NP Calculating mass of relativistic white dwarf\n",
    "print('Fully relativistic mass: ' +format(M /M_o,\\\n",
    "    '.2E') +' Solar Masses')\n",
    "# NP Printing result"
   ]
  },
  {
   "cell_type": "markdown",
   "id": "c89f1f93",
   "metadata": {},
   "source": [
    "<h1>Problem 5</h1>"
   ]
  },
  {
   "cell_type": "markdown",
   "id": "65e7dff0",
   "metadata": {},
   "source": [
    "<h2>(a)</h2>"
   ]
  },
  {
   "cell_type": "code",
   "execution_count": 148,
   "id": "b9d3ba18",
   "metadata": {},
   "outputs": [
    {
     "name": "stderr",
     "output_type": "stream",
     "text": [
      "/tmp/ipykernel_3361101/2143050322.py:5: DeprecationWarning: string or file could not be read to its end due to unmatched data; this will raise a ValueError in the future.\n",
      "  betteropa = [np.fromstring(goodopa[i][0], dtype = float, sep = ' ').tolist()\\\n"
     ]
    }
   ],
   "source": [
    "opa = pd.read_csv('/d/users/nikhil/Downloads/OPAL_SolarComposition.txt')\n",
    "# NP Reading in raw text file\n",
    "goodopa = opa.to_numpy()\n",
    "# NP Converting to numpy array\n",
    "betteropa = [np.fromstring(goodopa[i][0], dtype = float, sep = ' ').tolist()\\\n",
    "    for i in range(len(goodopa))]\n",
    "# NP Creating a table for opacities and temps., skipping first row\n",
    "bestopa = [betteropa[i+1][1:] for i in range(len(betteropa) -1)]\n",
    "# NP Creating a list of only opacities\n",
    "row_lengths = []\n",
    "for row in bestopa:\n",
    "    row_lengths.append(len(row))\n",
    "max_length = max(row_lengths)\n",
    "for row in bestopa:\n",
    "    while len(row) < max_length:\n",
    "        row.append(0)\n",
    "pristineopa = np.array(bestopa)\n",
    "# NP Creating numpy array of opacities to better parse through array\n",
    "logTs = np.array([betteropa[i+1][0] for i in range(len(betteropa)-1)])\n",
    "# NP Creating array of temperatures\n",
    "logRs = np.array(np.fromstring(goodopa[0][0][6:], dtype = float, sep = ' '))\n",
    "# NP Creating array of R's\n",
    "Tgrid = np.array([[t for r in range(len(logRs))] for t in logTs])\n",
    "# NP Creating 2D numpy array of temperatures\n",
    "Rgrid = np.array([[r for r in logRs] for t in range(len(logTs))])\n",
    "# NP Creating 2D numpy array of temperatures\n",
    "rhos = np.array([np.array([np.round(r +3 *(t -6) ,3) for r in logRs])\\\n",
    "    for t in logTs])\n",
    "# NP Creating density grip for each opacity"
   ]
  },
  {
   "cell_type": "code",
   "execution_count": 149,
   "id": "26be1a5d",
   "metadata": {},
   "outputs": [],
   "source": [
    "fillinopa = interp2d(logRs, logTs, pristineopa, kind = 'cubic')\n",
    "# NP Interpolating over Rs and Ts to fill in all values for opacity"
   ]
  },
  {
   "cell_type": "code",
   "execution_count": 150,
   "id": "738310ef",
   "metadata": {},
   "outputs": [],
   "source": [
    "r, m_r, l_r, T_r, rho_r, logP_r = np.loadtxt('/d/users/nikhil/'\n",
    "    'Downloads/SolarModel.csv', unpack = True, skiprows = 1,\\\n",
    "    usecols = (0, 1, 2, 3, 4, 5), delimiter = ',')\n",
    "# NP Reading in table quantities"
   ]
  },
  {
   "cell_type": "code",
   "execution_count": 151,
   "id": "a54d6a6f",
   "metadata": {},
   "outputs": [],
   "source": [
    "usefulTs = [np.log10(i) +6 for i in T_r]\n",
    "# NP Converting to more useful log T space\n",
    "usefulrhos = [np.log10(i) for i in rho_r]\n",
    "# NP Converting to more useful log density space\n",
    "usefulRs = [usefulrhos[i] -3 *(usefulTs[i]-6) for i\\\n",
    "    in range(len(r))]\n",
    "# NP Converting to more useful log Rs to parse opacities"
   ]
  },
  {
   "cell_type": "code",
   "execution_count": 197,
   "id": "274e3f9e",
   "metadata": {},
   "outputs": [],
   "source": [
    "n_rad = np.array([(3e-2 *fillinopa(usefulRs[i], usefulTs[i])\\\n",
    "    *10 **(logP_r[i]) *l_r[i] *L_o) /(64 *np.pi\\\n",
    "    *G *m_r[i] *M_o *o *(10 **(usefulTs[i])) **4)\\\n",
    "    for i in range(len(r))])\n",
    "# NP Calculating temperature gradient for the Sun for all layers\n",
    "n_conv = [0.4 for ra in r if ra < .7]+ [0.0216 for ra in r\\\n",
    "    if ra >= .7]\n",
    "# NP Calculating convective temperature gradient for the whole\n",
    "# NP Sun"
   ]
  },
  {
   "cell_type": "code",
   "execution_count": 163,
   "id": "2e158068",
   "metadata": {},
   "outputs": [
    {
     "name": "stdout",
     "output_type": "stream",
     "text": [
      "[-0.486, -0.486, -0.483, -0.478, -0.477, -0.476, -0.474, -0.474, -0.472, -0.466, -0.467, -0.281, -0.767, -0.767, -0.767, -0.767]\n"
     ]
    }
   ],
   "source": [
    "sanity = [pristineopa[np.argmin(np.abs(logTs - (np.log10(T_r[i]) +6)))]\\\n",
    "    [np.argmin(np.abs(logRs - (np.log10(rho_r[i]) -3 *(np.log10(T_r[i])+6))))] for i in range(len(T_r))]\n",
    "print(sanity)"
   ]
  },
  {
   "cell_type": "code",
   "execution_count": 164,
   "id": "6c52f61c",
   "metadata": {},
   "outputs": [
    {
     "name": "stdout",
     "output_type": "stream",
     "text": [
      "[-0.48586296929867817, -0.4857715611318212, -0.48397769082415465, -0.4787101714741241, -0.47705315550627464, -0.47579079076681363, -0.4738682958379736, -0.473996966236536, -0.47235847940453785, -0.4665588629860993, -0.46707188044221165, -0.308895587037496, -0.7670000000000001, -0.7670000000000001, -0.7670000000000001, -0.7670000000000001]\n"
     ]
    }
   ],
   "source": [
    "sanityv2 = [fillinopa(np.log10(rho_r[i]) -3 *(np.log10(T_r[i]) +6) ,(np.log10(T_r[i]) +6))[0] for i in range(len(r))]\n",
    "print(sanityv2)"
   ]
  },
  {
   "cell_type": "code",
   "execution_count": 196,
   "id": "41aa6c72",
   "metadata": {},
   "outputs": [
    {
     "data": {
      "image/png": "[encoded data removed]",
      "text/plain": [
       "<Figure size 576x432 with 1 Axes>"
      ]
     },
     "metadata": {
      "needs_background": "light"
     },
     "output_type": "display_data"
    }
   ],
   "source": [
    "plt.figure(figsize = [8, 6])\n",
    "plt.plot(r, n_rad, '--r', label = r'$\\nabla_{rad}$')\n",
    "plt.plot(r, n_conv, '--k', label = r'$\\nabla_{conv}$')\n",
    "plt.yscale('log')\n",
    "plt.xlabel(r'Radius $(M_\\odot)$')\n",
    "plt.ylabel(r'$\\nabla_{rad}$')\n",
    "plt.title(r'$\\nabla_{rad}$ as a function of radius')\n",
    "plt.legend()\n",
    "plt.savefig('/d/www/nikhil/public_html/ASTR5420/images/nablaradradius.png')"
   ]
  },
  {
   "cell_type": "markdown",
   "id": "01b288ca",
   "metadata": {},
   "source": [
    "<h2>(b)</h2>"
   ]
  },
  {
   "cell_type": "code",
   "execution_count": 207,
   "id": "80230ec4",
   "metadata": {},
   "outputs": [
    {
     "name": "stdout",
     "output_type": "stream",
     "text": [
      "Minimum radiative temperature gradient: 2.16E-02\n",
      "gamma: 1.02E+00\n"
     ]
    }
   ],
   "source": [
    "print('Minimum radiative temperature gradient: '\\\n",
    "    +format(min(n_rad[r > .7])[0], '.2E'))\n",
    "# NP Printing minimum temperature gradient after 0.7 R_o\n",
    "print('gamma: ' +format(1 /(1 -min(n_rad[r > 0.7])[0]), '.2E'))"
   ]
  },
  {
   "cell_type": "markdown",
   "id": "12963fc9",
   "metadata": {},
   "source": [
    "<h2>(c)</h2>"
   ]
  },
  {
   "cell_type": "code",
   "execution_count": 213,
   "id": "bfde7471",
   "metadata": {},
   "outputs": [
    {
     "name": "stdout",
     "output_type": "stream",
     "text": [
      "Luminosity difference: 9.68E+00 times.\n",
      "Mass difference: 1.91E+00 times.\n"
     ]
    }
   ],
   "source": [
    "print('Luminosity difference: ' +format(.4/n_rad\\\n",
    "    [r == 0.09][0][0], '.2E') +' times.')\n",
    "# NP Calculating luminosity difference to make core convective\n",
    "print('Mass difference: ' +format((.4 /n_rad[r ==\\\n",
    "    0.09][0][0]) **(1 /3.5), '.2E') +' times.')\n",
    "# NP Calculating mass difference to make core convective"
   ]
  },
  {
   "cell_type": "code",
   "execution_count": null,
   "id": "681cde95",
   "metadata": {},
   "outputs": [],
   "source": []
  }
 ],
 "metadata": {
  "kernelspec": {
   "display_name": "Python 3 (ipykernel)",
   "language": "python",
   "name": "python3"
  },
  "language_info": {
   "codemirror_mode": {
    "name": "ipython",
    "version": 3
   },
   "file_extension": ".py",
   "mimetype": "text/x-python",
   "name": "python",
   "nbconvert_exporter": "python",
   "pygments_lexer": "ipython3",
   "version": "3.9.12"
  }
 },
 "nbformat": 4,
 "nbformat_minor": 5
}
