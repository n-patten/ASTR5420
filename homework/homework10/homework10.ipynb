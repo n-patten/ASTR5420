{
 "cells": [
  {
   "cell_type": "code",
   "execution_count": 1,
   "id": "caf79a45",
   "metadata": {},
   "outputs": [],
   "source": [
    "import numpy as np\n",
    "import matplotlib.pyplot as plt\n",
    "# NP Necessary imports"
   ]
  },
  {
   "cell_type": "code",
   "execution_count": 2,
   "id": "d36c5b99",
   "metadata": {},
   "outputs": [],
   "source": [
    "M_o = 2e30\n",
    "# NP Mass of Sun in kg\n",
    "M_v = 4.8\n",
    "# NP Absolute visual magnitude of the Sun\n",
    "R_o = 6.955e8\n",
    "# NP Radius of Sun in m\n",
    "k = 1.38e-23\n",
    "# NP Boltzmann constant in SI\n",
    "L_o = 3.828e26\n",
    "# NP Luminosity of the Sun in Wm^-2\n",
    "o = 5.67e-8\n",
    "# NP Stefan-Boltzmann constant in SI\n",
    "m_H = 1.67e-27\n",
    "# NP Mass of proton in kg\n",
    "G = 6.67e-11\n",
    "# NP Graviational constant in SI\n",
    "c = 3e8\n",
    "# NP Speed of light in m/s"
   ]
  },
  {
   "cell_type": "markdown",
   "id": "b3bfa4e9",
   "metadata": {},
   "source": [
    "<h1>Problem 1</h1>"
   ]
  },
  {
   "cell_type": "markdown",
   "id": "ddff37ef",
   "metadata": {},
   "source": [
    "<h2>(a)</h2>"
   ]
  },
  {
   "cell_type": "code",
   "execution_count": 3,
   "id": "ae4da6e8",
   "metadata": {},
   "outputs": [],
   "source": [
    "def L(m):\n",
    "    '''Function to return the luminosity of a star from\n",
    "    its masses using MS relations\n",
    "    Inputs:\n",
    "    ~~~~~~~~~~~~~~~~~~~~~~~~~~~~~~~~~~~~~~~~~~~\n",
    "    m: Mass of the star in solar masses. -float.\n",
    "    Returns:\n",
    "    ~~~~~~~~~~~~~~~~~~~~~~~~~~~~~~~~~~~~~~~~~~~\n",
    "    L: Luminosity in solar luminosities. -float.\n",
    "    '''\n",
    "    L = (m) **3.5\n",
    "    return L\n",
    "\n",
    "def mv(L):\n",
    "    '''Function to return the absolute visual magnitude of\n",
    "    a star from its luminosity\n",
    "    Inputs:\n",
    "    ~~~~~~~~~~~~~~~~~~~~~~~~~~~~~~~~~~~~~~~~~~~\n",
    "    L: Luminosity in solar luminosities. -float.\n",
    "    Returns:\n",
    "    ~~~~~~~~~~~~~~~~~~~~~~~~~~~~~~~~~~~~~~~~~~~\n",
    "    mv: Absolute visual magnitude. -float.\n",
    "    '''\n",
    "    mv = -2.5 *np.log10(L) +4.8\n",
    "    return mv"
   ]
  },
  {
   "cell_type": "code",
   "execution_count": 4,
   "id": "cea880b7",
   "metadata": {},
   "outputs": [
    {
     "name": "stdout",
     "output_type": "stream",
     "text": [
      "5 M_o star:\n",
      "L = 2.80E+02 L_o\n",
      "M_V = -1.32E+00\n",
      "12 M_o star:\n",
      "L = 5.99E+03 L_o\n",
      "M_V = -4.64E+00\n"
     ]
    }
   ],
   "source": [
    "M_1 = 5\n",
    "# NP 5 solar masses\n",
    "M_2 = 12\n",
    "# NP 12 solar masses\n",
    "l1 = L(M_1)\n",
    "# NP Calculating first luminosity\n",
    "print('5 M_o star:')\n",
    "print('L = ' +format(l1, '.2E') +' L_o')\n",
    "# NP Printing result\n",
    "mv1 = mv(l1)\n",
    "# NP Calculating first magnitude\n",
    "print('M_V = ' +format(mv1, '.2E'))\n",
    "# NP Printing result\n",
    "l2 = L(M_2)\n",
    "# NP Calculating second luminosity\n",
    "print('12 M_o star:')\n",
    "print('L = ' +format(l2, '.2E') +' L_o')\n",
    "# NP Printing result\n",
    "mv2 = mv(l2)\n",
    "# NP Calculating second magnitude\n",
    "print('M_V = ' +format(mv2, '.2E'))\n",
    "# NP Printing result"
   ]
  },
  {
   "cell_type": "markdown",
   "id": "9d9ee3df",
   "metadata": {},
   "source": [
    "<h2>(b)</h2>"
   ]
  },
  {
   "cell_type": "code",
   "execution_count": 5,
   "id": "232c9c4e",
   "metadata": {},
   "outputs": [
    {
     "name": "stdout",
     "output_type": "stream",
     "text": [
      "R_1 = 1.14E+01 R_o\n",
      "rho_1 = 4.83E-03 g cm^-3\n",
      "Crossing time for star 1: 9.37E+04 s\n",
      "R_2 = 1.03E+02 R_o\n",
      "rho_2 = 1.55E-05 g cm^-3\n",
      "Crossing time for star 2: 1.65E+06 s\n"
     ]
    }
   ],
   "source": [
    "gamma = 5/3\n",
    "T_1  = 7000\n",
    "# NP Temperature of star 1\n",
    "R_1 = np.sqrt((l1 *L_o) /(4 *np.pi *o *T_1 **4)) /R_o\n",
    "# NP Radius of first star in solar units\n",
    "print('R_1 = ' +format(R_1, '.2E') +' R_o')\n",
    "# NP Printing result\n",
    "rho_1 = (M_1 * M_o) /(4 /3 *np.pi *(R_1 *R_o) **3)\n",
    "# NP Density of first star in SI\n",
    "print('rho_1 = ' +format(rho_1 /1000, '.2E') +' g cm^-3')\n",
    "# NP Printing result\n",
    "t_s1 = np.sqrt((3 *np.pi) /(2 *G *gamma *rho_1))\n",
    "# NP Crossing time of star 1\n",
    "print('Crossing time for star 1: ' +format(t_s1, '.2E') +' s')\n",
    "# NP Printing result\n",
    "\n",
    "T_2 = 5000\n",
    "# NP Temperature of star 2\n",
    "R_2 = np.sqrt((l2 *L_o) /(4 *np.pi *o *T_2 **4)) /R_o\n",
    "# NP Radius of second star in solar units\n",
    "print('R_2 = ' +format(R_2, '.2E') +' R_o')\n",
    "# NP Printing result\n",
    "rho_2 = (M_2 * M_o) /(4 /3 *np.pi *(R_2 *R_o) **3)\n",
    "# NP Density of second star in SI\n",
    "print('rho_2 = ' +format(rho_2 /1000, '.2E') +' g cm^-3')\n",
    "# NP Printing result\n",
    "t_s2 = np.sqrt((3 *np.pi) /(2 *G *gamma *rho_2))\n",
    "# NP Crossing time of star 2\n",
    "print('Crossing time for star 2: ' +format(t_s2, '.2E') +' s')\n",
    "# NP Printing result"
   ]
  },
  {
   "cell_type": "markdown",
   "id": "19d49bac",
   "metadata": {},
   "source": [
    "<h2>(c)</h2>"
   ]
  },
  {
   "cell_type": "code",
   "execution_count": 6,
   "id": "2a71f104",
   "metadata": {},
   "outputs": [
    {
     "name": "stdout",
     "output_type": "stream",
     "text": [
      "Predicted M_V: -1.71E+00\n",
      "MS M_V: -1.32E+00\n",
      "Predicted M_V: -4.73E+00\n",
      "MS M_V: -4.64E+00\n"
     ]
    }
   ],
   "source": [
    "M_v1p = -2.43 *np.log10(t_s1 /86400 /10) -4.05\n",
    "# NP Calculating predicted absolute magnitude of star 1\n",
    "print('Predicted M_V: ' +format(M_v1p, '.2E'))\n",
    "print('MS M_V: ' +format(mv1, '.2E'))\n",
    "# NP Printing results\n",
    "M_v2p = -2.43 *np.log10(t_s2 /864000) -4.05\n",
    "# NP Calculating predicted absolute magnitude of star 2\n",
    "print('Predicted M_V: ' +format(M_v2p, '.2E'))\n",
    "print('MS M_V: ' +format(mv2, '.2E'))\n",
    "# NP Printing results"
   ]
  },
  {
   "cell_type": "markdown",
   "id": "2024160b",
   "metadata": {},
   "source": [
    "<h1>Problem 2</h1>"
   ]
  },
  {
   "cell_type": "markdown",
   "id": "b67c8aee",
   "metadata": {},
   "source": [
    "<h2>(a)</h2>"
   ]
  },
  {
   "cell_type": "code",
   "execution_count": 7,
   "id": "09dfddce",
   "metadata": {},
   "outputs": [
    {
     "name": "stdout",
     "output_type": "stream",
     "text": [
      "Period (s):\n",
      "[3.27913678e+01 1.41336340e-03 3.22614447e-03]\n",
      "Frequency (Hz):\n",
      "[3.04958306e-02 7.07532119e+02 3.09967520e+02]\n"
     ]
    }
   ],
   "source": [
    "Ms = np.array([1, 2, 10])\n",
    "# NP Masses of objects\n",
    "tempRs = []\n",
    "# NP Making temporary radius array\n",
    "tempRs.append(0.01 *(Ms[0] /0.8) ** (-1/3))\n",
    "# NP Radius of white dwarfs\n",
    "tempRs.append(1e4 /R_o)\n",
    "# NP Radius of neutron stars\n",
    "tempRs.append((2 *G *Ms[2] *M_o) /(R_o *c **2))\n",
    "# NP Radius of BHs\n",
    "Rs = np.array(tempRs)\n",
    "# NP Converting to array\n",
    "Ps = np.array([np.sqrt((4 *np.pi **2 *(3 *Rs[i] *R_o) **3) /(G *2 *Ms[i]\\\n",
    "    *M_o)) for i in range(len(Ms))])\n",
    "# NP Calculating periods for each object using Kepler's Third Law\n",
    "print('Period (s):')\n",
    "print(Ps)\n",
    "print('Frequency (Hz):')\n",
    "fs = np.array([1 /Ps[i] for i in range(len(Ms))])\n",
    "print(fs)\n",
    "# NP Printing results"
   ]
  },
  {
   "cell_type": "markdown",
   "id": "578b3344",
   "metadata": {},
   "source": [
    "<h2>(b)</h2>"
   ]
  },
  {
   "cell_type": "code",
   "execution_count": 8,
   "id": "c24a4e70",
   "metadata": {},
   "outputs": [
    {
     "name": "stdout",
     "output_type": "stream",
     "text": [
      "Radii (R_o):\n",
      "[ 3.70645129  6.2334828  20.84290593]\n"
     ]
    }
   ],
   "source": [
    "H_0 = 70 *1e-6 *1e3 /(3.09e16)\n",
    "# NP H_0 in inverse seconds\n",
    "a_0 = np.array([(81 *(3 *Rs[i] *R_o) **4 +(256 *G **3 *(Ms[i] *M_o) **2 *2\\\n",
    "    *Ms[i] *M_o) /(5 *c **5 *H_0)) **0.25 for i in range(len(Ms))])\n",
    "# NP Calculating maxium a_0 for each case\n",
    "print('Radii (R_o):')\n",
    "print(a_0 /R_o)\n",
    "# NP Printing results in solar radii"
   ]
  },
  {
   "cell_type": "markdown",
   "id": "8bace2b9",
   "metadata": {},
   "source": [
    "<h1>Problem 3</h1>"
   ]
  },
  {
   "cell_type": "markdown",
   "id": "f78a6d32",
   "metadata": {},
   "source": [
    "<h2>(a)</h2>"
   ]
  },
  {
   "cell_type": "code",
   "execution_count": 9,
   "id": "cee1858c",
   "metadata": {},
   "outputs": [
    {
     "name": "stdout",
     "output_type": "stream",
     "text": [
      "KL cycle timescale: 6.95E+04 years\n",
      "Inclination range: 8.41E+01 - 9.59E+01 degrees\n"
     ]
    }
   ],
   "source": [
    "M_1 = 1\n",
    "M_2 = 1\n",
    "M_3 = 0.1\n",
    "# NP Star masses in solar masses\n",
    "P_1 = 3\n",
    "P_2 = 300\n",
    "# NP Periods of orbits in years\n",
    "e_2 = 0.5\n",
    "# NP Eccentricity of teritiary\n",
    "t_q = 16 /(30 *np.pi) *(M_1 +M_2 +M_3) /(M_3) *P_2 **2 /P_1 *(1-e_2**2)\\\n",
    "    **(3/2)\n",
    "# NP Calculating KL timescale\n",
    "print('KL cycle timescale: ' +format(t_q, '.2E') +' years')\n",
    "# NP Prinitng result\n",
    "i1 = np.arccos(np.sqrt(0.6 *(1 -(1 -(5 *R_o) *((P_1 *np.pi *1e7) **2\n",
    "    *(G *2 *M_1 *M_o) /(4 *np.pi *np.pi)) **(-1/3)) **2))) *180 /np.pi\n",
    "i2 = np.arccos(-1 *np.sqrt(0.6 *(1 -(1 -(5 *R_o) *((P_1 *np.pi *1e7) **2\n",
    "    *(G *2 *M_1 *M_o) /(4 *np.pi *np.pi)) **(-1/3)) **2))) *180 /np.pi\n",
    "# NP Calculating inclinations to produce given periastron\n",
    "print('Inclination range: ' +format(i1, '.2E') +' - ' +format(i2, '.2E')\\\n",
    "     +' degrees')\n",
    "# NP Printing result"
   ]
  },
  {
   "cell_type": "markdown",
   "id": "4c4771f2",
   "metadata": {},
   "source": [
    "<h2>(b)</h2>"
   ]
  },
  {
   "cell_type": "code",
   "execution_count": 10,
   "id": "f549cefc",
   "metadata": {},
   "outputs": [
    {
     "name": "stdout",
     "output_type": "stream",
     "text": [
      "KL cycle timescale: 6.95E+04 years\n",
      "Timescale for e=0 10 M_o merger: 3.73E+11 years\n",
      "Minimum eccentricity to merge in Hubble time: 6.98E-01\n",
      "Inclination range: 5.63E+01 - 1.24E+02 degrees\n"
     ]
    }
   ],
   "source": [
    "M_1 = 10\n",
    "M_2 = 10\n",
    "M_3 = 1\n",
    "# NP Star masses in solar masses\n",
    "P_1 = 3\n",
    "P_2 = 300\n",
    "# NP Periods of orbits in years\n",
    "e_2 = 0.5\n",
    "# NP Eccentricity of teritiary\n",
    "t_q = 16 /(30 *np.pi) *(M_1 +M_2 +M_3) /(M_3) *P_2 **2 /P_1 *(1-e_2**2)\\\n",
    "    **(3/2)\n",
    "# NP Calculating KL timescale\n",
    "print('KL cycle timescale: ' +format(t_q, '.2E') +' years')\n",
    "# NP Printing result\n",
    "a = ((P_1 *np.pi *1e7) **2 *(G *M_1 * M_o *2) /(4 *np.pi *np.pi)) **(1/3)\n",
    "# NP Calculating initil semi major axis of circular BH's\n",
    "R_S = (2 *G *M_1 *M_o) /(c **2)\n",
    "# NP Calculating Schwarzschild radius of BH's\n",
    "t = (5 *c **2 *(a) **4 *(3 *R_S) **4) /(256 *G **3 *2 *M_1 **3 *M_o **3)\n",
    "# NP Calculating time for BH orbit to decay via GW's\n",
    "print('Timescale for e=0 10 M_o merger: ' +format(t /np.pi\\\n",
    "    /(1e7), '.2E') +' years')\n",
    "# NP Printing result\n",
    "e = np.linspace(0, 1, 100000)\n",
    "# NP Array of eccentricities\n",
    "t = (5 *c **2 *(a) **4 *(3 *R_S) **4 *(1 -e **2) **(7/2)) /(256 *\\\n",
    "    G **3 *2 *M_1 **3 *M_o **3 *(1 +(73/24) *e **2 +(37/96) *e **4))\n",
    "# NP Calculating time for BH orbit to decay via GW's now considering\n",
    "# NP eccentricity\n",
    "e_min = e[np.argmin(np.abs(t -(1 /H_0)))]\n",
    "# NP Finding e where BH's merge in a Hubble time\n",
    "print('Minimum eccentricity to merge in Hubble time: ' +format(e_min,\\\n",
    "    '.2E'))\n",
    "# NP Printing result\n",
    "i1 = np.arccos(np.sqrt(0.6 *(1 -e_min **2))) *180 /np.pi\n",
    "i2 = np.arccos(-1 *np.sqrt(0.6 *(1 -e_min **2))) *180 /np.pi\n",
    "# NP Finding angles of tertiary to drive this eccentricity change\n",
    "print('Inclination range: ' +format(i1, '.2E') +' - ' +format(i2,'.2E')\\\n",
    "     +' degrees')\n",
    "# NP Prinitng result"
   ]
  },
  {
   "cell_type": "markdown",
   "id": "7cebd8e7",
   "metadata": {},
   "source": [
    "<h1>Problem 4</h1>"
   ]
  },
  {
   "cell_type": "code",
   "execution_count": 11,
   "id": "df1d7e1a",
   "metadata": {},
   "outputs": [],
   "source": [
    "def f_1(e2):\n",
    "    '''Function f_1 from Hut 1981\n",
    "    Inputs:\n",
    "    ~~~~~~~~~~~~~~~~~~~~~~~~~~~~~~~~~~~~~~~~~~~\n",
    "    e2: Eccentricity squared. -float.\n",
    "    Returns:\n",
    "    ~~~~~~~~~~~~~~~~~~~~~~~~~~~~~~~~~~~~~~~~~~~\n",
    "    f: f_1 from Hut 1981. -float.\n",
    "    '''\n",
    "    f = 1 +31 /2 *e2 +255 /8 *(e2 **2) +185 /16 *(e2 **3) +25 /64 *(e2 **4)\n",
    "    return f"
   ]
  },
  {
   "cell_type": "code",
   "execution_count": 12,
   "id": "0a573f06",
   "metadata": {},
   "outputs": [],
   "source": [
    "def f_2(e2):\n",
    "    '''Function f_1 from Hut 1981\n",
    "    Inputs:\n",
    "    ~~~~~~~~~~~~~~~~~~~~~~~~~~~~~~~~~~~~~~~~~~~\n",
    "    e2: Eccentricity squared. -float.\n",
    "    Returns:\n",
    "    ~~~~~~~~~~~~~~~~~~~~~~~~~~~~~~~~~~~~~~~~~~~\n",
    "    f: f_2 from Hut 1981. -float.\n",
    "    '''\n",
    "    f = 1 +15 /2 *e2 +45 /8 *e2 **2 +5 /16 *e2 **3\n",
    "    return f"
   ]
  },
  {
   "cell_type": "code",
   "execution_count": 13,
   "id": "89224893",
   "metadata": {},
   "outputs": [],
   "source": [
    "def f_3(e2):\n",
    "    '''Function f_3 from Hut 1981\n",
    "    Inputs:\n",
    "    ~~~~~~~~~~~~~~~~~~~~~~~~~~~~~~~~~~~~~~~~~~~\n",
    "    e2: Eccentricity squared. -float.\n",
    "    Returns:\n",
    "    ~~~~~~~~~~~~~~~~~~~~~~~~~~~~~~~~~~~~~~~~~~~\n",
    "    f: f_1 from Hut 1981. -float.\n",
    "    '''\n",
    "    f = 1 +15 /4 *e2 +15 /8 *e2 **2 +5 /64 *e2 **3\n",
    "    return f"
   ]
  },
  {
   "cell_type": "code",
   "execution_count": 14,
   "id": "69d9a2e9",
   "metadata": {},
   "outputs": [],
   "source": [
    "def f_4(e2):\n",
    "    '''Function f_4 from Hut 1981\n",
    "    Inputs:\n",
    "    ~~~~~~~~~~~~~~~~~~~~~~~~~~~~~~~~~~~~~~~~~~~\n",
    "    e2: Eccentricity squared. -float.\n",
    "    Returns:\n",
    "    ~~~~~~~~~~~~~~~~~~~~~~~~~~~~~~~~~~~~~~~~~~~\n",
    "    f: f_4 from Hut 1981. -float.\n",
    "    '''\n",
    "    f = 1 +3 /2 *e2 +1 /8 *e2 **2\n",
    "    return f"
   ]
  },
  {
   "cell_type": "code",
   "execution_count": 15,
   "id": "9f62a701",
   "metadata": {},
   "outputs": [],
   "source": [
    "def f_5(e2):\n",
    "    '''Function f_5 from Hut 1981\n",
    "    Inputs:\n",
    "    ~~~~~~~~~~~~~~~~~~~~~~~~~~~~~~~~~~~~~~~~~~~\n",
    "    e2: Eccentricity squared. -float.\n",
    "    Returns:\n",
    "    ~~~~~~~~~~~~~~~~~~~~~~~~~~~~~~~~~~~~~~~~~~~\n",
    "    f: f_5 from Hut 1981. -float.\n",
    "    '''\n",
    "    f = 1 +3 *e2 +3 /8 *e2 **2\n",
    "    return f"
   ]
  },
  {
   "cell_type": "code",
   "execution_count": 16,
   "id": "b9047978",
   "metadata": {},
   "outputs": [],
   "source": [
    "def n(m, M, a):\n",
    "    '''Calculate n from Hut 1981\n",
    "    Inputs:\n",
    "    ~~~~~~~~~~~~~~~~~~~~~~~~~~~~~~~~~~~~~~~~~~~\n",
    "    M: Primary mass. -float.\n",
    "    m: Secondary mass. -float.\n",
    "    a: Semi-major axis. -float.\n",
    "    Returns:\n",
    "    ~~~~~~~~~~~~~~~~~~~~~~~~~~~~~~~~~~~~~~~~~~~\n",
    "    n: n parameter from Hut 1981. -float.\n",
    "    '''\n",
    "    n = G **0.5 *(M +m) **0.5 *a **(-1.5)\n",
    "    return n"
   ]
  },
  {
   "cell_type": "code",
   "execution_count": 24,
   "id": "8e7f4d77",
   "metadata": {},
   "outputs": [],
   "source": [
    "def sim(m, M, R, a, e_i, O):\n",
    "    '''Simulate binary using equations from Hut 1981\n",
    "    Inputs:\n",
    "    ~~~~~~~~~~~~~~~~~~~~~~~~~~~~~~~~~~~~~~~~~~~\n",
    "    M: Primary mass in kg. -float.\n",
    "    m: Secondary mass in kg. -float.\n",
    "    R: Radius of primary in m. -float.\n",
    "    a: Semi-major axis in m. -float.\n",
    "    e_i: Eccentricity. -float.\n",
    "    O: Rotation. -float.\n",
    "    Returns:\n",
    "    ~~~~~~~~~~~~~~~~~~~~~~~~~~~~~~~~~~~~~~~~~~~\n",
    "    n: n parameter from Hut 1981. -float.\n",
    "    '''\n",
    "    q = 0.4\n",
    "    # NP System mass ratio\n",
    "    k = 0.05\n",
    "    # NP apsidal motion constant\n",
    "    T = 0.1 *np.pi *1e7\n",
    "    # NP Convectice timescale\n",
    "    r_g = 0.1\n",
    "    #  NP Radius of gyration\n",
    "    a_arr = [a]\n",
    "    e_arr = [e_i]\n",
    "    O_arr = [O]\n",
    "    t_arr = [0]\n",
    "    # NP Creating arrays of inputted parameters\n",
    "    while(e_arr[len(e_arr) -1] > 0.05):\n",
    "        dt = (1000 *np.pi *1e7) *(0.1 *a_arr[len(a_arr) -1] /R) **6\n",
    "        # NP Adaptive time step\n",
    "        e_s = e_arr[len(e_arr) -1] **2\n",
    "        # NP Eccentricity squared\n",
    "        en = n(m, M, a_arr[len(a_arr) -1])\n",
    "        # NP n parameter calculation\n",
    "        da = -6 *k /T *q *(q +1) *(R /a_arr[len(a_arr) -1]) **8 \\\n",
    "            *((a_arr[len(a_arr) -1]) /(1 -e_s) **(15 /2)) *(f_1(e_s) \\\n",
    "            -((1 -e_s) **1.5) *f_2(e_s) *(O_arr[len(O_arr) -1]))\n",
    "        # NP Finding change in a for time step\n",
    "        de = -27 *k /T *q *(q +1) *(R /a_arr[len(a_arr) -1]) **8 \\\n",
    "            *((e_arr[len(e_arr) -1]) /(1 -e_s) **(13 /2)) *(f_3(e_s) \\\n",
    "            -(11 /18) *((1 -e_s) **1.5) *f_4(e_s) *(O_arr[len(O_arr) -1]))\n",
    "        # Finding change in e for time step\n",
    "        dO = 3 *k /T *(q /r_g) **2 *(R /a_arr[len(a_arr) -1]) **6 \\\n",
    "            /((1 -e_s) **6) *(f_2(e_s) -((1 -e_s) **1.5 *f_5(e_s)\\\n",
    "            *(O_arr[len(O_arr) -1])))\n",
    "        # NP Finding change in O for time step\n",
    "        a_arr.append(a_arr[len(a_arr) -1] +(da *dt))\n",
    "        e_arr.append(e_arr[len(e_arr) -1] +(de *dt))\n",
    "        O_arr.append(O_arr[len(O_arr) -1] +(dO *dt))\n",
    "        # NP Appending new values for parameters\n",
    "        t_arr.append(t_arr[len(t_arr) -1] +dt)\n",
    "        # NP Updating time\n",
    "        dummye = e_arr[len(e_arr) -1]\n",
    "        # NP Updating placeholder eccentricity variable\n",
    "    a_o = np.array(a_arr)\n",
    "    e_o = np.array(e_arr)\n",
    "    O_o = np.array(O_arr)\n",
    "    t_o = np.array(t_arr)\n",
    "    # NP Converting lists to arrays\n",
    "    return a_o, e_o, O_o, t_o\n",
    "# NP Returning parameters"
   ]
  },
  {
   "cell_type": "markdown",
   "id": "76390f41",
   "metadata": {},
   "source": [
    "<h2>(a)</h2>"
   ]
  },
  {
   "cell_type": "code",
   "execution_count": 35,
   "id": "51a10861",
   "metadata": {},
   "outputs": [
    {
     "name": "stdout",
     "output_type": "stream",
     "text": [
      "Final age: 2.10E+09 years\n",
      "Final separation: 1.50E+01 R_o\n",
      "Final spin rate: 1.02E+00 n\n"
     ]
    },
    {
     "data": {
      "image/png": "[encoded data removed]",
      "text/plain": [
       "<Figure size 576x432 with 1 Axes>"
      ]
     },
     "metadata": {},
     "output_type": "display_data"
    },
    {
     "data": {
      "image/png": "[encoded data removed]",
      "text/plain": [
       "<Figure size 576x432 with 1 Axes>"
      ]
     },
     "metadata": {},
     "output_type": "display_data"
    },
    {
     "data": {
      "image/png": "[encoded data removed]",
      "text/plain": [
       "<Figure size 576x432 with 1 Axes>"
      ]
     },
     "metadata": {},
     "output_type": "display_data"
    }
   ],
   "source": [
    "m = 0.4 *M_o\n",
    "M = M_o\n",
    "R = R_o\n",
    "a_i = 20 *R_o\n",
    "e_i = 0.5\n",
    "O_i = 0.1\n",
    "# NP Inital parameters\n",
    "a_1, e_1, O_1, t_1 = sim(m, M, R, a_i, 0.5, O_i)\n",
    "# NP Simulating binary\n",
    "print('Final age: ' +format(t_1[len(t_1) -1] /(np.pi *1e7), '.2E') +' years')\n",
    "print('Final separation: ' +format(a_1[len(a_1) -1] /(R_o), '.2E') +' R_o')\n",
    "print('Final spin rate: ' +format(O_1[len(O_1) -1], '.2E') +' n')\n",
    "# NP Printing final paramters\n",
    "plt.figure(facecolor='white', figsize = [8, 6])\n",
    "plt.plot((t_1 /(np.pi *1e7)), (a_1 /R_o), 'r')\n",
    "plt.xlabel('Time (yrs)')\n",
    "plt.ylabel(r'$a(R_\\odot)$')\n",
    "plt.title(r'Semimajor axis $a$ versus time')\n",
    "plt.savefig('/d/www/nikhil/public_html/ASTR5420/images/4aplot1.png')\n",
    "# NP Plotting semimajor axis versus time\n",
    "plt.figure(facecolor='white', figsize = [8, 6])\n",
    "plt.plot((t_1 /(np.pi *1e7)), e_1, 'g')\n",
    "plt.xlabel('Time (yrs)')\n",
    "plt.ylabel(r'e')\n",
    "plt.title('Eccentricity versus time')\n",
    "plt.savefig('/d/www/nikhil/public_html/ASTR5420/images/4aplot2.png')\n",
    "# NP Plotting eccentricity versus time\n",
    "plt.figure(facecolor='white', figsize = [8, 6])\n",
    "plt.plot((t_1 /(np.pi *1e7)), O_1, 'b')\n",
    "plt.xlabel('Time (yrs)')\n",
    "plt.xscale('log')\n",
    "plt.ylabel(r'$\\Omega/n$')\n",
    "plt.title('Eccentricity versus time')\n",
    "plt.savefig('/d/www/nikhil/public_html/ASTR5420/images/4aplot3.png')\n",
    "# NP Plotting omega versus time"
   ]
  },
  {
   "cell_type": "markdown",
   "id": "8621af1b",
   "metadata": {},
   "source": [
    "<h2>(b)</h2>"
   ]
  },
  {
   "cell_type": "code",
   "execution_count": 40,
   "id": "9f77181c",
   "metadata": {},
   "outputs": [
    {
     "data": {
      "image/png": "[encoded data removed]",
      "text/plain": [
       "<Figure size 576x432 with 1 Axes>"
      ]
     },
     "metadata": {},
     "output_type": "display_data"
    }
   ],
   "source": [
    "plt.figure(facecolor='white', figsize = [8, 6])\n",
    "plt.plot((t_1 /(np.pi *1e7)), a_1 *(1 -e_1 **2), 'k')\n",
    "plt.xlabel('Time (yrs)')\n",
    "plt.ylabel(r'$a(1-e^2)$')\n",
    "plt.title(r'$J_{orb}$ versus time')\n",
    "plt.savefig('/d/www/nikhil/public_html/ASTR5420/images/4bplot.png')\n",
    "# NP Plotting eccentricity versus time"
   ]
  },
  {
   "cell_type": "markdown",
   "id": "ef9e2023",
   "metadata": {},
   "source": [
    "\n",
    "<h2>(c)</h2>"
   ]
  },
  {
   "cell_type": "code",
   "execution_count": 53,
   "id": "a2d04575",
   "metadata": {},
   "outputs": [
    {
     "name": "stdout",
     "output_type": "stream",
     "text": [
      "Pseudo-synchronized orbital frequency: 2.79E+00\n",
      "Equation 42 result: 2.79E+00\n"
     ]
    }
   ],
   "source": [
    "print('Pseudo-synchronized orbital frequency: ' +format(O_1[np.argmax(O_1)], '.2E'))\n",
    "# NP Finding pseudo synchronized orbital frequency\n",
    "e_special = e_1[np.argmax(O_1)]\n",
    "# NP Finding the eccentricity at this frequency\n",
    "guess = ((1 +7.5 *e_special **2 +(45 /8) *e_special **4 +(5 /16) *e_special **6)\\\n",
    "    /((1 +3 *e_special **2 +(3 /8) *e_special **4) *(1 -e_special **2) **1.5))\n",
    "# NP Plugging into equation 42 to see predicted synchronized frequency\n",
    "print('Equation 42 result: ' +format(guess, '.2E'))\n",
    "# NP Printing resuly"
   ]
  },
  {
   "cell_type": "markdown",
   "id": "5616b11e",
   "metadata": {},
   "source": [
    "<h2>(d)</h2>"
   ]
  },
  {
   "cell_type": "code",
   "execution_count": 69,
   "id": "a558b56e",
   "metadata": {},
   "outputs": [
    {
     "name": "stdout",
     "output_type": "stream",
     "text": [
      "Time to circularize for a =1.00E+01 R_o : 8.14E+06 years\n",
      "Time to circularize for a =1.20E+01 R_o : 3.51E+07 years\n",
      "Time to circularize for a =1.40E+01 R_o : 1.21E+08 years\n",
      "Time to circularize for a =1.60E+01 R_o : 3.51E+08 years\n",
      "Time to circularize for a =1.80E+01 R_o : 9.02E+08 years\n",
      "Time to circularize for a =2.00E+01 R_o : 2.10E+09 years\n",
      "Time to circularize for a =2.40E+01 R_o : 9.02E+09 years\n",
      "Time to circularize for a =2.60E+01 R_o : 1.71E+10 years\n",
      "Time to circularize for a =2.80E+01 R_o : 3.10E+10 years\n",
      "Time to circularize for a =3.00E+01 R_o : 5.38E+10 years\n",
      "Period of inital orbit that circularizes in less than 10 Gyrs: 1.15E+01 days\n"
     ]
    },
    {
     "data": {
      "image/png": "[encoded data removed]",
      "text/plain": [
       "<Figure size 576x432 with 1 Axes>"
      ]
     },
     "metadata": {},
     "output_type": "display_data"
    }
   ],
   "source": [
    "m = 0.4 *M_o\n",
    "M = M_o\n",
    "R = R_o\n",
    "a_i = np.array([10, 12, 14, 16, 18, 20, 24, 26, 28, 30]) *R_o\n",
    "e_i = 0.5\n",
    "O_i = 0.1\n",
    "# NP Inital parameters\n",
    "s2 = [sim(m, M, R, a_i[i], e_i, O_i) for i in range(len(a_i))]\n",
    "a2 = [s[0] for s in s2]\n",
    "e2 = [s[1] for s in s2]\n",
    "O2 = [s[2] for s in s2]\n",
    "t2 = [s[3] for s in s2]\n",
    "# NP Simulating binary\n",
    "colors = ['red', 'orange', 'green', 'blue', 'purple']\n",
    "plt.figure(facecolor='white', figsize = [8, 6])\n",
    "for i in range(len(a2)):\n",
    "    plt.plot(e2[i], a2[i] /R_o, color = colors[i % len(colors)])\n",
    "plt.xlabel('Time (yrs)')\n",
    "plt.ylabel(r'$a(R_\\odot)$')\n",
    "plt.title(r'Semimajor axis $a$ versus time')\n",
    "plt.savefig('/d/www/nikhil/public_html/ASTR5420/images/4dplot.png')\n",
    "for i in range(len(s2)):\n",
    "    print('Time to circularize for a =' +format(a2[i][0] /R_o, '.2E') +' R_o : '\\\n",
    "        +format(t2[i][len(t2[i]) -1] /(np .pi *1e7), '.2E') +' years')\n",
    "P = np.sqrt((4 *np.pi **2 *(24 *R_o) **3) /(G *(M +m)))\n",
    "print('Period of inital orbit that circularizes in less than 10 Gyrs: '\\\n",
    "    +format(P /(86400), '.2E') +' days')"
   ]
  },
  {
   "cell_type": "markdown",
   "id": "18a3f8c9",
   "metadata": {},
   "source": [
    "<h2>(e)</h2>"
   ]
  },
  {
   "cell_type": "code",
   "execution_count": 72,
   "id": "9fa22e5b",
   "metadata": {},
   "outputs": [
    {
     "name": "stdout",
     "output_type": "stream",
     "text": [
      "Final age: 2.10E+09 years\n",
      "Final separation: 1.50E+01 R_o\n",
      "Final spin rate: 1.02E+00 n\n"
     ]
    },
    {
     "data": {
      "image/png": "[encoded data removed]",
      "text/plain": [
       "<Figure size 576x432 with 1 Axes>"
      ]
     },
     "metadata": {},
     "output_type": "display_data"
    }
   ],
   "source": [
    "m = 0.4 *M_o\n",
    "M = M_o\n",
    "R = R_o\n",
    "a_i = 20 *R_o\n",
    "e_i = 0.5\n",
    "O_i = 100\n",
    "# NP Inital parameters\n",
    "a_3, e_3, O_3, t_3 = sim(m, M, R, a_i, e_i, O_i)\n",
    "# NP Simulating binary\n",
    "print('Final age: ' +format(t_1[len(t_1) -1] /(np.pi *1e7), '.2E') +' years')\n",
    "print('Final separation: ' +format(a_1[len(a_1) -1] /(R_o), '.2E') +' R_o')\n",
    "print('Final spin rate: ' +format(O_1[len(O_1) -1], '.2E') +' n')\n",
    "# NP Printing final paramters\n",
    "plt.figure(facecolor='white', figsize = [8, 6])\n",
    "plt.plot((t_3 /(np.pi *1e7)), (a_3 /R_o), 'r')\n",
    "plt.xlabel('Time (yrs)')\n",
    "plt.ylabel(r'$a(R_\\odot)$')\n",
    "plt.xscale('log')\n",
    "plt.title(r'Semimajor axis $a$ versus time')\n",
    "plt.savefig('/d/www/nikhil/public_html/ASTR5420/images/4eplot.png')\n",
    "# NP Plotting semimajor axis versus time"
   ]
  },
  {
   "cell_type": "code",
   "execution_count": null,
   "id": "63893a5a",
   "metadata": {},
   "outputs": [],
   "source": []
  }
 ],
 "metadata": {
  "kernelspec": {
   "display_name": "Python 3 (ipykernel)",
   "language": "python",
   "name": "python3"
  },
  "language_info": {
   "codemirror_mode": {
    "name": "ipython",
    "version": 3
   },
   "file_extension": ".py",
   "mimetype": "text/x-python",
   "name": "python",
   "nbconvert_exporter": "python",
   "pygments_lexer": "ipython3",
   "version": "3.9.12"
  }
 },
 "nbformat": 4,
 "nbformat_minor": 5
}
